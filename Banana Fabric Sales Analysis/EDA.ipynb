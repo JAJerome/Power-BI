{
 "cells": [
  {
   "cell_type": "markdown",
   "id": "1fda648b-e628-4ef4-99c7-9d5122de4684",
   "metadata": {},
   "source": [
    "# Exploratory Data Analysis"
   ]
  },
  {
   "cell_type": "markdown",
   "id": "f6aafc53-efdc-404d-bd27-70d70bf34699",
   "metadata": {},
   "source": [
    "### Importing the libraries"
   ]
  },
  {
   "cell_type": "code",
   "execution_count": 18,
   "id": "690788e3-fb99-4b1a-8cc0-3b557e544ace",
   "metadata": {},
   "outputs": [],
   "source": [
    "import pandas as pd \n",
    "import numpy as np \n",
    "import matplotlib.pyplot as plt \n",
    "import seaborn as sns "
   ]
  },
  {
   "cell_type": "code",
   "execution_count": 19,
   "id": "027c06c0-56e2-4757-8ae0-59049eecc61f",
   "metadata": {},
   "outputs": [
    {
     "data": {
      "text/html": [
       "<div>\n",
       "<style scoped>\n",
       "    .dataframe tbody tr th:only-of-type {\n",
       "        vertical-align: middle;\n",
       "    }\n",
       "\n",
       "    .dataframe tbody tr th {\n",
       "        vertical-align: top;\n",
       "    }\n",
       "\n",
       "    .dataframe thead th {\n",
       "        text-align: right;\n",
       "    }\n",
       "</style>\n",
       "<table border=\"1\" class=\"dataframe\">\n",
       "  <thead>\n",
       "    <tr style=\"text-align: right;\">\n",
       "      <th></th>\n",
       "      <th>company Name</th>\n",
       "      <th>Amount</th>\n",
       "      <th>Old Price</th>\n",
       "      <th>offer %</th>\n",
       "      <th>product type</th>\n",
       "      <th>Pack_Units</th>\n",
       "      <th>product link</th>\n",
       "      <th>rating status</th>\n",
       "      <th>ratings</th>\n",
       "      <th>color</th>\n",
       "      <th>location</th>\n",
       "    </tr>\n",
       "  </thead>\n",
       "  <tbody>\n",
       "    <tr>\n",
       "      <th>0</th>\n",
       "      <td>doctor  towels</td>\n",
       "      <td>1299.0</td>\n",
       "      <td>1599.0</td>\n",
       "      <td>18.761726</td>\n",
       "      <td>Banana Double Cloth Bath Towels</td>\n",
       "      <td>1</td>\n",
       "      <td>https://doctortowels.com/products/banana-doubl...</td>\n",
       "      <td>Good</td>\n",
       "      <td>4.5</td>\n",
       "      <td>Golden Ochre</td>\n",
       "      <td>coimbatore ,tamil nadu</td>\n",
       "    </tr>\n",
       "    <tr>\n",
       "      <th>1</th>\n",
       "      <td>doctor towels</td>\n",
       "      <td>1399.0</td>\n",
       "      <td>1599.0</td>\n",
       "      <td>12.507817</td>\n",
       "      <td>Banana Jacquard Floral Bath Towel</td>\n",
       "      <td>1</td>\n",
       "      <td>https://doctortowels.com/products/buy-banana-j...</td>\n",
       "      <td>Good</td>\n",
       "      <td>4.5</td>\n",
       "      <td>Coral</td>\n",
       "      <td>coimbatore ,tamil nadu</td>\n",
       "    </tr>\n",
       "    <tr>\n",
       "      <th>2</th>\n",
       "      <td>doctor towels</td>\n",
       "      <td>989.0</td>\n",
       "      <td>1099.0</td>\n",
       "      <td>10.009099</td>\n",
       "      <td>Banana Jacquard Floral Hand Towel</td>\n",
       "      <td>2</td>\n",
       "      <td>https://doctortowels.com/products/banana-jacqu...</td>\n",
       "      <td>Medium</td>\n",
       "      <td>3.0</td>\n",
       "      <td>Chalk Blue</td>\n",
       "      <td>coimbatore ,tamil nadu</td>\n",
       "    </tr>\n",
       "    <tr>\n",
       "      <th>3</th>\n",
       "      <td>doctor towels</td>\n",
       "      <td>989.0</td>\n",
       "      <td>1099.0</td>\n",
       "      <td>10.009099</td>\n",
       "      <td>Banana Jacquard Floral Face Towel</td>\n",
       "      <td>4</td>\n",
       "      <td>https://doctortowels.com/products/banana-jacqu...</td>\n",
       "      <td>Medium</td>\n",
       "      <td>3.0</td>\n",
       "      <td>Pastel Green</td>\n",
       "      <td>coimbatore ,tamil nadu</td>\n",
       "    </tr>\n",
       "    <tr>\n",
       "      <th>4</th>\n",
       "      <td>doctor towels</td>\n",
       "      <td>599.0</td>\n",
       "      <td>849.0</td>\n",
       "      <td>29.446408</td>\n",
       "      <td>Banana Jacquard Floral Hair Towel</td>\n",
       "      <td>1</td>\n",
       "      <td>https://doctortowels.com/products/banana-jacqu...</td>\n",
       "      <td>Medium</td>\n",
       "      <td>3.5</td>\n",
       "      <td>Pastel Green</td>\n",
       "      <td>coimbatore ,tamil nadu</td>\n",
       "    </tr>\n",
       "    <tr>\n",
       "      <th>...</th>\n",
       "      <td>...</td>\n",
       "      <td>...</td>\n",
       "      <td>...</td>\n",
       "      <td>...</td>\n",
       "      <td>...</td>\n",
       "      <td>...</td>\n",
       "      <td>...</td>\n",
       "      <td>...</td>\n",
       "      <td>...</td>\n",
       "      <td>...</td>\n",
       "      <td>...</td>\n",
       "    </tr>\n",
       "    <tr>\n",
       "      <th>76</th>\n",
       "      <td>OtherWise</td>\n",
       "      <td>6800.0</td>\n",
       "      <td>6800.0</td>\n",
       "      <td>0.000000</td>\n",
       "      <td>banana fiber and linen sleeve shirt</td>\n",
       "      <td>1</td>\n",
       "      <td>https://www.otherwise.shop/products/organic-ba...</td>\n",
       "      <td>Good</td>\n",
       "      <td>4.0</td>\n",
       "      <td>white</td>\n",
       "      <td>NaN</td>\n",
       "    </tr>\n",
       "    <tr>\n",
       "      <th>77</th>\n",
       "      <td>Soma Blockprints Private Limited</td>\n",
       "      <td>4144.0</td>\n",
       "      <td>4144.0</td>\n",
       "      <td>0.000000</td>\n",
       "      <td>banana fiber kurta</td>\n",
       "      <td>1</td>\n",
       "      <td>https://somashop.com/product/rose-2-kurta-2807...</td>\n",
       "      <td>Medium</td>\n",
       "      <td>3.7</td>\n",
       "      <td>pink</td>\n",
       "      <td>Rajasthan, India</td>\n",
       "    </tr>\n",
       "    <tr>\n",
       "      <th>78</th>\n",
       "      <td>Soma Blockprints Private Limited</td>\n",
       "      <td>3651.0</td>\n",
       "      <td>3651.0</td>\n",
       "      <td>0.000000</td>\n",
       "      <td>banana fiber cons 10 kurta</td>\n",
       "      <td>1</td>\n",
       "      <td>https://somashop.com/product/cons-10-kurta-2747d</td>\n",
       "      <td>Medium</td>\n",
       "      <td>3.6</td>\n",
       "      <td>Multi</td>\n",
       "      <td>Rajasthan, India</td>\n",
       "    </tr>\n",
       "    <tr>\n",
       "      <th>79</th>\n",
       "      <td>Lazzari stores</td>\n",
       "      <td>63877.0</td>\n",
       "      <td>127755.0</td>\n",
       "      <td>50.000391</td>\n",
       "      <td>banana fabric white dress</td>\n",
       "      <td>1</td>\n",
       "      <td>https://www.lazzariweb.it/en/casey-casey-natur...</td>\n",
       "      <td>Good</td>\n",
       "      <td>4.0</td>\n",
       "      <td>white</td>\n",
       "      <td>Triveso ,Italy</td>\n",
       "    </tr>\n",
       "    <tr>\n",
       "      <th>80</th>\n",
       "      <td>Tilly Groups Thuruthel and Solution</td>\n",
       "      <td>850.0</td>\n",
       "      <td>850.0</td>\n",
       "      <td>0.000000</td>\n",
       "      <td>banana woven fabric(meter)</td>\n",
       "      <td>1</td>\n",
       "      <td>https://www.dial4trade.com/tilly-groups-thurut...</td>\n",
       "      <td>Good</td>\n",
       "      <td>4.2</td>\n",
       "      <td>white</td>\n",
       "      <td>Ernakulam, Kerala</td>\n",
       "    </tr>\n",
       "  </tbody>\n",
       "</table>\n",
       "<p>81 rows × 11 columns</p>\n",
       "</div>"
      ],
      "text/plain": [
       "                           company Name  Amount   Old Price   offer %   \\\n",
       "0                        doctor  towels   1299.0     1599.0  18.761726   \n",
       "1                         doctor towels   1399.0     1599.0  12.507817   \n",
       "2                         doctor towels    989.0     1099.0  10.009099   \n",
       "3                         doctor towels    989.0     1099.0  10.009099   \n",
       "4                         doctor towels    599.0      849.0  29.446408   \n",
       "..                                  ...      ...        ...        ...   \n",
       "76                            OtherWise   6800.0     6800.0   0.000000   \n",
       "77    Soma Blockprints Private Limited    4144.0     4144.0   0.000000   \n",
       "78    Soma Blockprints Private Limited    3651.0     3651.0   0.000000   \n",
       "79                       Lazzari stores  63877.0   127755.0  50.000391   \n",
       "80  Tilly Groups Thuruthel and Solution    850.0      850.0   0.000000   \n",
       "\n",
       "                          product type   Pack_Units  \\\n",
       "0       Banana Double Cloth Bath Towels           1   \n",
       "1     Banana Jacquard Floral Bath Towel           1   \n",
       "2     Banana Jacquard Floral Hand Towel           2   \n",
       "3    Banana Jacquard Floral Face Towel            4   \n",
       "4     Banana Jacquard Floral Hair Towel           1   \n",
       "..                                  ...         ...   \n",
       "76  banana fiber and linen sleeve shirt           1   \n",
       "77                   banana fiber kurta           1   \n",
       "78           banana fiber cons 10 kurta           1   \n",
       "79            banana fabric white dress           1   \n",
       "80           banana woven fabric(meter)           1   \n",
       "\n",
       "                                         product link rating status  ratings  \\\n",
       "0   https://doctortowels.com/products/banana-doubl...          Good      4.5   \n",
       "1   https://doctortowels.com/products/buy-banana-j...          Good      4.5   \n",
       "2   https://doctortowels.com/products/banana-jacqu...        Medium      3.0   \n",
       "3   https://doctortowels.com/products/banana-jacqu...        Medium      3.0   \n",
       "4   https://doctortowels.com/products/banana-jacqu...        Medium      3.5   \n",
       "..                                                ...           ...      ...   \n",
       "76  https://www.otherwise.shop/products/organic-ba...          Good      4.0   \n",
       "77  https://somashop.com/product/rose-2-kurta-2807...        Medium      3.7   \n",
       "78   https://somashop.com/product/cons-10-kurta-2747d        Medium      3.6   \n",
       "79  https://www.lazzariweb.it/en/casey-casey-natur...          Good      4.0   \n",
       "80  https://www.dial4trade.com/tilly-groups-thurut...          Good      4.2   \n",
       "\n",
       "           color                location  \n",
       "0   Golden Ochre  coimbatore ,tamil nadu  \n",
       "1          Coral  coimbatore ,tamil nadu  \n",
       "2     Chalk Blue  coimbatore ,tamil nadu  \n",
       "3   Pastel Green  coimbatore ,tamil nadu  \n",
       "4   Pastel Green  coimbatore ,tamil nadu  \n",
       "..           ...                     ...  \n",
       "76         white                     NaN  \n",
       "77          pink        Rajasthan, India  \n",
       "78         Multi        Rajasthan, India  \n",
       "79         white          Triveso ,Italy  \n",
       "80         white       Ernakulam, Kerala  \n",
       "\n",
       "[81 rows x 11 columns]"
      ]
     },
     "execution_count": 19,
     "metadata": {},
     "output_type": "execute_result"
    }
   ],
   "source": [
    "# reading the dataset \n",
    "df = pd.read_excel('Banana Fabric_data.xlsx')\n",
    "df_dummy = df\n",
    "df"
   ]
  },
  {
   "cell_type": "code",
   "execution_count": 20,
   "id": "5225ca5a-1521-4583-8cf0-173d0855ae10",
   "metadata": {},
   "outputs": [
    {
     "data": {
      "text/html": [
       "<div>\n",
       "<style scoped>\n",
       "    .dataframe tbody tr th:only-of-type {\n",
       "        vertical-align: middle;\n",
       "    }\n",
       "\n",
       "    .dataframe tbody tr th {\n",
       "        vertical-align: top;\n",
       "    }\n",
       "\n",
       "    .dataframe thead th {\n",
       "        text-align: right;\n",
       "    }\n",
       "</style>\n",
       "<table border=\"1\" class=\"dataframe\">\n",
       "  <thead>\n",
       "    <tr style=\"text-align: right;\">\n",
       "      <th></th>\n",
       "      <th>company Name</th>\n",
       "      <th>Amount</th>\n",
       "      <th>Old Price</th>\n",
       "      <th>offer %</th>\n",
       "      <th>product type</th>\n",
       "      <th>Pack_Units</th>\n",
       "      <th>product link</th>\n",
       "      <th>rating status</th>\n",
       "      <th>ratings</th>\n",
       "      <th>color</th>\n",
       "      <th>location</th>\n",
       "    </tr>\n",
       "  </thead>\n",
       "  <tbody>\n",
       "    <tr>\n",
       "      <th>0</th>\n",
       "      <td>doctor  towels</td>\n",
       "      <td>1299.0</td>\n",
       "      <td>1599.0</td>\n",
       "      <td>18.761726</td>\n",
       "      <td>Banana Double Cloth Bath Towels</td>\n",
       "      <td>1</td>\n",
       "      <td>https://doctortowels.com/products/banana-doubl...</td>\n",
       "      <td>Good</td>\n",
       "      <td>4.5</td>\n",
       "      <td>Golden Ochre</td>\n",
       "      <td>coimbatore ,tamil nadu</td>\n",
       "    </tr>\n",
       "    <tr>\n",
       "      <th>1</th>\n",
       "      <td>doctor towels</td>\n",
       "      <td>1399.0</td>\n",
       "      <td>1599.0</td>\n",
       "      <td>12.507817</td>\n",
       "      <td>Banana Jacquard Floral Bath Towel</td>\n",
       "      <td>1</td>\n",
       "      <td>https://doctortowels.com/products/buy-banana-j...</td>\n",
       "      <td>Good</td>\n",
       "      <td>4.5</td>\n",
       "      <td>Coral</td>\n",
       "      <td>coimbatore ,tamil nadu</td>\n",
       "    </tr>\n",
       "    <tr>\n",
       "      <th>2</th>\n",
       "      <td>doctor towels</td>\n",
       "      <td>989.0</td>\n",
       "      <td>1099.0</td>\n",
       "      <td>10.009099</td>\n",
       "      <td>Banana Jacquard Floral Hand Towel</td>\n",
       "      <td>2</td>\n",
       "      <td>https://doctortowels.com/products/banana-jacqu...</td>\n",
       "      <td>Medium</td>\n",
       "      <td>3.0</td>\n",
       "      <td>Chalk Blue</td>\n",
       "      <td>coimbatore ,tamil nadu</td>\n",
       "    </tr>\n",
       "    <tr>\n",
       "      <th>3</th>\n",
       "      <td>doctor towels</td>\n",
       "      <td>989.0</td>\n",
       "      <td>1099.0</td>\n",
       "      <td>10.009099</td>\n",
       "      <td>Banana Jacquard Floral Face Towel</td>\n",
       "      <td>4</td>\n",
       "      <td>https://doctortowels.com/products/banana-jacqu...</td>\n",
       "      <td>Medium</td>\n",
       "      <td>3.0</td>\n",
       "      <td>Pastel Green</td>\n",
       "      <td>coimbatore ,tamil nadu</td>\n",
       "    </tr>\n",
       "    <tr>\n",
       "      <th>4</th>\n",
       "      <td>doctor towels</td>\n",
       "      <td>599.0</td>\n",
       "      <td>849.0</td>\n",
       "      <td>29.446408</td>\n",
       "      <td>Banana Jacquard Floral Hair Towel</td>\n",
       "      <td>1</td>\n",
       "      <td>https://doctortowels.com/products/banana-jacqu...</td>\n",
       "      <td>Medium</td>\n",
       "      <td>3.5</td>\n",
       "      <td>Pastel Green</td>\n",
       "      <td>coimbatore ,tamil nadu</td>\n",
       "    </tr>\n",
       "  </tbody>\n",
       "</table>\n",
       "</div>"
      ],
      "text/plain": [
       "     company Name  Amount   Old Price   offer %   \\\n",
       "0  doctor  towels   1299.0     1599.0  18.761726   \n",
       "1   doctor towels   1399.0     1599.0  12.507817   \n",
       "2   doctor towels    989.0     1099.0  10.009099   \n",
       "3   doctor towels    989.0     1099.0  10.009099   \n",
       "4   doctor towels    599.0      849.0  29.446408   \n",
       "\n",
       "                        product type   Pack_Units  \\\n",
       "0     Banana Double Cloth Bath Towels           1   \n",
       "1   Banana Jacquard Floral Bath Towel           1   \n",
       "2   Banana Jacquard Floral Hand Towel           2   \n",
       "3  Banana Jacquard Floral Face Towel            4   \n",
       "4   Banana Jacquard Floral Hair Towel           1   \n",
       "\n",
       "                                        product link rating status  ratings  \\\n",
       "0  https://doctortowels.com/products/banana-doubl...          Good      4.5   \n",
       "1  https://doctortowels.com/products/buy-banana-j...          Good      4.5   \n",
       "2  https://doctortowels.com/products/banana-jacqu...        Medium      3.0   \n",
       "3  https://doctortowels.com/products/banana-jacqu...        Medium      3.0   \n",
       "4  https://doctortowels.com/products/banana-jacqu...        Medium      3.5   \n",
       "\n",
       "          color                location  \n",
       "0  Golden Ochre  coimbatore ,tamil nadu  \n",
       "1         Coral  coimbatore ,tamil nadu  \n",
       "2    Chalk Blue  coimbatore ,tamil nadu  \n",
       "3  Pastel Green  coimbatore ,tamil nadu  \n",
       "4  Pastel Green  coimbatore ,tamil nadu  "
      ]
     },
     "execution_count": 20,
     "metadata": {},
     "output_type": "execute_result"
    }
   ],
   "source": [
    "df.head()"
   ]
  },
  {
   "cell_type": "markdown",
   "id": "11091802-d74f-4b28-ae55-be46a6b3ba37",
   "metadata": {},
   "source": [
    "### info"
   ]
  },
  {
   "cell_type": "code",
   "execution_count": 21,
   "id": "7774fbd2-129a-440d-be36-f5773ec0ffa4",
   "metadata": {},
   "outputs": [
    {
     "name": "stdout",
     "output_type": "stream",
     "text": [
      "<class 'pandas.core.frame.DataFrame'>\n",
      "RangeIndex: 81 entries, 0 to 80\n",
      "Data columns (total 11 columns):\n",
      " #   Column         Non-Null Count  Dtype  \n",
      "---  ------         --------------  -----  \n",
      " 0   company Name   81 non-null     object \n",
      " 1   Amount         80 non-null     float64\n",
      " 2   Old Price      80 non-null     float64\n",
      " 3    offer %       80 non-null     float64\n",
      " 4   product type   81 non-null     object \n",
      " 5   Pack_Units     81 non-null     int64  \n",
      " 6   product link   81 non-null     object \n",
      " 7   rating status  81 non-null     object \n",
      " 8   ratings        81 non-null     float64\n",
      " 9   color          74 non-null     object \n",
      " 10  location       62 non-null     object \n",
      "dtypes: float64(4), int64(1), object(6)\n",
      "memory usage: 7.1+ KB\n"
     ]
    }
   ],
   "source": [
    "#checking info\n",
    "df.info()"
   ]
  },
  {
   "cell_type": "markdown",
   "id": "0f0fe54b-83d8-4f6d-929f-7abdabdcfad5",
   "metadata": {},
   "source": [
    "### checking for Null values"
   ]
  },
  {
   "cell_type": "code",
   "execution_count": 22,
   "id": "2d4703fb-ab76-419d-992e-d52b0782ce55",
   "metadata": {},
   "outputs": [
    {
     "data": {
      "text/plain": [
       "company Name      0\n",
       "Amount            1\n",
       "Old Price         1\n",
       " offer %          1\n",
       "product type      0\n",
       "Pack_Units        0\n",
       "product link      0\n",
       "rating status     0\n",
       "ratings           0\n",
       "color             7\n",
       "location         19\n",
       "dtype: int64"
      ]
     },
     "execution_count": 22,
     "metadata": {},
     "output_type": "execute_result"
    }
   ],
   "source": [
    "# checking for Null valuesa\n",
    "df.isnull().sum()"
   ]
  },
  {
   "cell_type": "code",
   "execution_count": 23,
   "id": "0f90b57e-017a-4987-9adf-e85a55b67151",
   "metadata": {},
   "outputs": [],
   "source": [
    "#removing the null values\n",
    "df.dropna(inplace=True)"
   ]
  },
  {
   "cell_type": "code",
   "execution_count": 24,
   "id": "130439e8-421b-4020-aa7e-918117347757",
   "metadata": {},
   "outputs": [
    {
     "data": {
      "text/plain": [
       "0"
      ]
     },
     "execution_count": 24,
     "metadata": {},
     "output_type": "execute_result"
    }
   ],
   "source": [
    "# checking for duplicated values \n",
    "df.duplicated().sum()"
   ]
  },
  {
   "cell_type": "code",
   "execution_count": 25,
   "id": "66e97eff-f004-46e3-8cfa-c795466a793f",
   "metadata": {},
   "outputs": [
    {
     "data": {
      "text/plain": [
       "company Name      object\n",
       "Amount           float64\n",
       "Old Price        float64\n",
       " offer %         float64\n",
       "product type      object\n",
       "Pack_Units         int64\n",
       "product link      object\n",
       "rating status     object\n",
       "ratings          float64\n",
       "color             object\n",
       "location          object\n",
       "dtype: object"
      ]
     },
     "execution_count": 25,
     "metadata": {},
     "output_type": "execute_result"
    }
   ],
   "source": [
    "##checking datatypes\n",
    "df.dtypes"
   ]
  },
  {
   "cell_type": "markdown",
   "id": "1d19130d-8ab9-49c2-8aeb-1819ecb15b92",
   "metadata": {},
   "source": [
    "### Dropping the unwanted columns"
   ]
  },
  {
   "cell_type": "code",
   "execution_count": 26,
   "id": "2ce44195-1899-4d61-a563-ce7855c61d32",
   "metadata": {},
   "outputs": [
    {
     "data": {
      "text/html": [
       "<div>\n",
       "<style scoped>\n",
       "    .dataframe tbody tr th:only-of-type {\n",
       "        vertical-align: middle;\n",
       "    }\n",
       "\n",
       "    .dataframe tbody tr th {\n",
       "        vertical-align: top;\n",
       "    }\n",
       "\n",
       "    .dataframe thead th {\n",
       "        text-align: right;\n",
       "    }\n",
       "</style>\n",
       "<table border=\"1\" class=\"dataframe\">\n",
       "  <thead>\n",
       "    <tr style=\"text-align: right;\">\n",
       "      <th></th>\n",
       "      <th>company Name</th>\n",
       "      <th>Amount</th>\n",
       "      <th>Old Price</th>\n",
       "      <th>offer %</th>\n",
       "      <th>product type</th>\n",
       "      <th>Pack_Units</th>\n",
       "      <th>rating status</th>\n",
       "      <th>ratings</th>\n",
       "      <th>color</th>\n",
       "    </tr>\n",
       "  </thead>\n",
       "  <tbody>\n",
       "    <tr>\n",
       "      <th>0</th>\n",
       "      <td>doctor  towels</td>\n",
       "      <td>1299.0</td>\n",
       "      <td>1599.0</td>\n",
       "      <td>18.761726</td>\n",
       "      <td>Banana Double Cloth Bath Towels</td>\n",
       "      <td>1</td>\n",
       "      <td>Good</td>\n",
       "      <td>4.5</td>\n",
       "      <td>Golden Ochre</td>\n",
       "    </tr>\n",
       "    <tr>\n",
       "      <th>1</th>\n",
       "      <td>doctor towels</td>\n",
       "      <td>1399.0</td>\n",
       "      <td>1599.0</td>\n",
       "      <td>12.507817</td>\n",
       "      <td>Banana Jacquard Floral Bath Towel</td>\n",
       "      <td>1</td>\n",
       "      <td>Good</td>\n",
       "      <td>4.5</td>\n",
       "      <td>Coral</td>\n",
       "    </tr>\n",
       "    <tr>\n",
       "      <th>2</th>\n",
       "      <td>doctor towels</td>\n",
       "      <td>989.0</td>\n",
       "      <td>1099.0</td>\n",
       "      <td>10.009099</td>\n",
       "      <td>Banana Jacquard Floral Hand Towel</td>\n",
       "      <td>2</td>\n",
       "      <td>Medium</td>\n",
       "      <td>3.0</td>\n",
       "      <td>Chalk Blue</td>\n",
       "    </tr>\n",
       "    <tr>\n",
       "      <th>3</th>\n",
       "      <td>doctor towels</td>\n",
       "      <td>989.0</td>\n",
       "      <td>1099.0</td>\n",
       "      <td>10.009099</td>\n",
       "      <td>Banana Jacquard Floral Face Towel</td>\n",
       "      <td>4</td>\n",
       "      <td>Medium</td>\n",
       "      <td>3.0</td>\n",
       "      <td>Pastel Green</td>\n",
       "    </tr>\n",
       "    <tr>\n",
       "      <th>4</th>\n",
       "      <td>doctor towels</td>\n",
       "      <td>599.0</td>\n",
       "      <td>849.0</td>\n",
       "      <td>29.446408</td>\n",
       "      <td>Banana Jacquard Floral Hair Towel</td>\n",
       "      <td>1</td>\n",
       "      <td>Medium</td>\n",
       "      <td>3.5</td>\n",
       "      <td>Pastel Green</td>\n",
       "    </tr>\n",
       "  </tbody>\n",
       "</table>\n",
       "</div>"
      ],
      "text/plain": [
       "     company Name  Amount   Old Price   offer %   \\\n",
       "0  doctor  towels   1299.0     1599.0  18.761726   \n",
       "1   doctor towels   1399.0     1599.0  12.507817   \n",
       "2   doctor towels    989.0     1099.0  10.009099   \n",
       "3   doctor towels    989.0     1099.0  10.009099   \n",
       "4   doctor towels    599.0      849.0  29.446408   \n",
       "\n",
       "                        product type   Pack_Units rating status  ratings  \\\n",
       "0     Banana Double Cloth Bath Towels           1          Good      4.5   \n",
       "1   Banana Jacquard Floral Bath Towel           1          Good      4.5   \n",
       "2   Banana Jacquard Floral Hand Towel           2        Medium      3.0   \n",
       "3  Banana Jacquard Floral Face Towel            4        Medium      3.0   \n",
       "4   Banana Jacquard Floral Hair Towel           1        Medium      3.5   \n",
       "\n",
       "          color  \n",
       "0  Golden Ochre  \n",
       "1         Coral  \n",
       "2    Chalk Blue  \n",
       "3  Pastel Green  \n",
       "4  Pastel Green  "
      ]
     },
     "execution_count": 26,
     "metadata": {},
     "output_type": "execute_result"
    }
   ],
   "source": [
    "df.drop({'product link','location'},axis=1,inplace=True)\n",
    "df.head()"
   ]
  },
  {
   "cell_type": "code",
   "execution_count": 27,
   "id": "530cccaa-f258-4628-811d-380f6ec2481a",
   "metadata": {},
   "outputs": [
    {
     "data": {
      "text/plain": [
       "Index(['company Name', 'Amount ', 'Old Price', ' offer % ', 'product type ',\n",
       "       'Pack_Units', 'rating status', 'ratings', 'color'],\n",
       "      dtype='object')"
      ]
     },
     "execution_count": 27,
     "metadata": {},
     "output_type": "execute_result"
    }
   ],
   "source": [
    "# chaning the columns names into lowercase\n",
    "df.columns"
   ]
  },
  {
   "cell_type": "code",
   "execution_count": 28,
   "id": "af1d93fe-2036-4317-a4d2-02852d2884b2",
   "metadata": {},
   "outputs": [],
   "source": [
    "df.columns = [i.lower() for i in df.columns]"
   ]
  },
  {
   "cell_type": "code",
   "execution_count": 29,
   "id": "1ccbc9fe-7ea0-458b-8dc7-ad73128ad3a4",
   "metadata": {},
   "outputs": [
    {
     "data": {
      "text/plain": [
       "Index(['company name', 'amount ', 'old price', ' offer % ', 'product type ',\n",
       "       'pack_units', 'rating status', 'ratings', 'color'],\n",
       "      dtype='object')"
      ]
     },
     "execution_count": 29,
     "metadata": {},
     "output_type": "execute_result"
    }
   ],
   "source": [
    "df.columns"
   ]
  },
  {
   "cell_type": "markdown",
   "id": "6fd6ff21-cf1a-4d8a-9a08-a2aa84ce8daf",
   "metadata": {},
   "source": [
    "### statistical analysis "
   ]
  },
  {
   "cell_type": "code",
   "execution_count": 30,
   "id": "321020e8-4911-4c7e-9a98-bae402d3c9d6",
   "metadata": {},
   "outputs": [
    {
     "data": {
      "text/html": [
       "<div>\n",
       "<style scoped>\n",
       "    .dataframe tbody tr th:only-of-type {\n",
       "        vertical-align: middle;\n",
       "    }\n",
       "\n",
       "    .dataframe tbody tr th {\n",
       "        vertical-align: top;\n",
       "    }\n",
       "\n",
       "    .dataframe thead th {\n",
       "        text-align: right;\n",
       "    }\n",
       "</style>\n",
       "<table border=\"1\" class=\"dataframe\">\n",
       "  <thead>\n",
       "    <tr style=\"text-align: right;\">\n",
       "      <th></th>\n",
       "      <th>amount</th>\n",
       "      <th>old price</th>\n",
       "      <th>offer %</th>\n",
       "      <th>pack_units</th>\n",
       "      <th>ratings</th>\n",
       "    </tr>\n",
       "  </thead>\n",
       "  <tbody>\n",
       "    <tr>\n",
       "      <th>count</th>\n",
       "      <td>57.000000</td>\n",
       "      <td>57.000000</td>\n",
       "      <td>57.000000</td>\n",
       "      <td>57.000000</td>\n",
       "      <td>57.000000</td>\n",
       "    </tr>\n",
       "    <tr>\n",
       "      <th>mean</th>\n",
       "      <td>3885.368421</td>\n",
       "      <td>5340.456140</td>\n",
       "      <td>9.281575</td>\n",
       "      <td>2.842105</td>\n",
       "      <td>3.817544</td>\n",
       "    </tr>\n",
       "    <tr>\n",
       "      <th>std</th>\n",
       "      <td>9169.381459</td>\n",
       "      <td>17095.714409</td>\n",
       "      <td>14.602020</td>\n",
       "      <td>13.106418</td>\n",
       "      <td>0.390569</td>\n",
       "    </tr>\n",
       "    <tr>\n",
       "      <th>min</th>\n",
       "      <td>130.000000</td>\n",
       "      <td>130.000000</td>\n",
       "      <td>0.000000</td>\n",
       "      <td>1.000000</td>\n",
       "      <td>2.900000</td>\n",
       "    </tr>\n",
       "    <tr>\n",
       "      <th>25%</th>\n",
       "      <td>989.000000</td>\n",
       "      <td>1050.000000</td>\n",
       "      <td>0.000000</td>\n",
       "      <td>1.000000</td>\n",
       "      <td>3.500000</td>\n",
       "    </tr>\n",
       "    <tr>\n",
       "      <th>50%</th>\n",
       "      <td>1800.000000</td>\n",
       "      <td>1800.000000</td>\n",
       "      <td>0.000000</td>\n",
       "      <td>1.000000</td>\n",
       "      <td>3.900000</td>\n",
       "    </tr>\n",
       "    <tr>\n",
       "      <th>75%</th>\n",
       "      <td>2890.000000</td>\n",
       "      <td>3651.000000</td>\n",
       "      <td>14.285714</td>\n",
       "      <td>1.000000</td>\n",
       "      <td>4.000000</td>\n",
       "    </tr>\n",
       "    <tr>\n",
       "      <th>max</th>\n",
       "      <td>63877.000000</td>\n",
       "      <td>127755.000000</td>\n",
       "      <td>60.000000</td>\n",
       "      <td>100.000000</td>\n",
       "      <td>4.800000</td>\n",
       "    </tr>\n",
       "  </tbody>\n",
       "</table>\n",
       "</div>"
      ],
      "text/plain": [
       "            amount       old price   offer %   pack_units    ratings\n",
       "count     57.000000      57.000000  57.000000   57.000000  57.000000\n",
       "mean    3885.368421    5340.456140   9.281575    2.842105   3.817544\n",
       "std     9169.381459   17095.714409  14.602020   13.106418   0.390569\n",
       "min      130.000000     130.000000   0.000000    1.000000   2.900000\n",
       "25%      989.000000    1050.000000   0.000000    1.000000   3.500000\n",
       "50%     1800.000000    1800.000000   0.000000    1.000000   3.900000\n",
       "75%     2890.000000    3651.000000  14.285714    1.000000   4.000000\n",
       "max    63877.000000  127755.000000  60.000000  100.000000   4.800000"
      ]
     },
     "execution_count": 30,
     "metadata": {},
     "output_type": "execute_result"
    }
   ],
   "source": [
    "df.describe() "
   ]
  },
  {
   "cell_type": "code",
   "execution_count": 31,
   "id": "605f20ec-a69a-4691-a336-b7fbb2c0b724",
   "metadata": {},
   "outputs": [
    {
     "data": {
      "text/html": [
       "<div>\n",
       "<style scoped>\n",
       "    .dataframe tbody tr th:only-of-type {\n",
       "        vertical-align: middle;\n",
       "    }\n",
       "\n",
       "    .dataframe tbody tr th {\n",
       "        vertical-align: top;\n",
       "    }\n",
       "\n",
       "    .dataframe thead th {\n",
       "        text-align: right;\n",
       "    }\n",
       "</style>\n",
       "<table border=\"1\" class=\"dataframe\">\n",
       "  <thead>\n",
       "    <tr style=\"text-align: right;\">\n",
       "      <th></th>\n",
       "      <th>company name</th>\n",
       "      <th>product type</th>\n",
       "      <th>rating status</th>\n",
       "      <th>color</th>\n",
       "    </tr>\n",
       "  </thead>\n",
       "  <tbody>\n",
       "    <tr>\n",
       "      <th>count</th>\n",
       "      <td>57</td>\n",
       "      <td>57</td>\n",
       "      <td>57</td>\n",
       "      <td>57</td>\n",
       "    </tr>\n",
       "    <tr>\n",
       "      <th>unique</th>\n",
       "      <td>42</td>\n",
       "      <td>43</td>\n",
       "      <td>3</td>\n",
       "      <td>28</td>\n",
       "    </tr>\n",
       "    <tr>\n",
       "      <th>top</th>\n",
       "      <td>doctor towels</td>\n",
       "      <td>banana silk saree</td>\n",
       "      <td>Medium</td>\n",
       "      <td>white</td>\n",
       "    </tr>\n",
       "    <tr>\n",
       "      <th>freq</th>\n",
       "      <td>6</td>\n",
       "      <td>6</td>\n",
       "      <td>32</td>\n",
       "      <td>13</td>\n",
       "    </tr>\n",
       "  </tbody>\n",
       "</table>\n",
       "</div>"
      ],
      "text/plain": [
       "         company name      product type  rating status  color\n",
       "count              57                 57            57     57\n",
       "unique             42                 43             3     28\n",
       "top     doctor towels  banana silk saree        Medium  white\n",
       "freq                6                  6            32     13"
      ]
     },
     "execution_count": 31,
     "metadata": {},
     "output_type": "execute_result"
    }
   ],
   "source": [
    "df.describe(include=\"O\")"
   ]
  },
  {
   "cell_type": "markdown",
   "id": "4ad905a5-6c68-4d4e-a049-a71ebb8d4b74",
   "metadata": {},
   "source": [
    "## Features Selection Process"
   ]
  },
  {
   "cell_type": "code",
   "execution_count": 36,
   "id": "462d7ade-e2f4-4731-a7e1-5d185792408e",
   "metadata": {},
   "outputs": [
    {
     "data": {
      "text/html": [
       "<div>\n",
       "<style scoped>\n",
       "    .dataframe tbody tr th:only-of-type {\n",
       "        vertical-align: middle;\n",
       "    }\n",
       "\n",
       "    .dataframe tbody tr th {\n",
       "        vertical-align: top;\n",
       "    }\n",
       "\n",
       "    .dataframe thead th {\n",
       "        text-align: right;\n",
       "    }\n",
       "</style>\n",
       "<table border=\"1\" class=\"dataframe\">\n",
       "  <thead>\n",
       "    <tr style=\"text-align: right;\">\n",
       "      <th></th>\n",
       "      <th>company name</th>\n",
       "      <th>product type</th>\n",
       "      <th>rating status</th>\n",
       "      <th>color</th>\n",
       "    </tr>\n",
       "  </thead>\n",
       "  <tbody>\n",
       "    <tr>\n",
       "      <th>0</th>\n",
       "      <td>doctor  towels</td>\n",
       "      <td>Banana Double Cloth Bath Towels</td>\n",
       "      <td>Good</td>\n",
       "      <td>Golden Ochre</td>\n",
       "    </tr>\n",
       "    <tr>\n",
       "      <th>1</th>\n",
       "      <td>doctor towels</td>\n",
       "      <td>Banana Jacquard Floral Bath Towel</td>\n",
       "      <td>Good</td>\n",
       "      <td>Coral</td>\n",
       "    </tr>\n",
       "    <tr>\n",
       "      <th>2</th>\n",
       "      <td>doctor towels</td>\n",
       "      <td>Banana Jacquard Floral Hand Towel</td>\n",
       "      <td>Medium</td>\n",
       "      <td>Chalk Blue</td>\n",
       "    </tr>\n",
       "  </tbody>\n",
       "</table>\n",
       "</div>"
      ],
      "text/plain": [
       "     company name                      product type  rating status  \\\n",
       "0  doctor  towels    Banana Double Cloth Bath Towels          Good   \n",
       "1   doctor towels  Banana Jacquard Floral Bath Towel          Good   \n",
       "2   doctor towels  Banana Jacquard Floral Hand Towel        Medium   \n",
       "\n",
       "          color  \n",
       "0  Golden Ochre  \n",
       "1         Coral  \n",
       "2    Chalk Blue  "
      ]
     },
     "execution_count": 36,
     "metadata": {},
     "output_type": "execute_result"
    }
   ],
   "source": [
    "df.select_dtypes(include=\"object\").head(3)"
   ]
  },
  {
   "cell_type": "code",
   "execution_count": 41,
   "id": "a836ed95-ac26-49fa-8a6c-99f3899aee43",
   "metadata": {},
   "outputs": [
    {
     "data": {
      "text/plain": [
       "(42,\n",
       " array(['doctor  towels', 'doctor towels', 'STUDIO-N',\n",
       "        'Lush Textiles Private Limited',\n",
       "        'Hayael Aerospace India Private Limited', 'J. C Overseas Inc.',\n",
       "        'sepiastories', 'Brown living', 'M/S Bar Organic Enterprise',\n",
       "        'conifer ', 'Shree JiExports', 'Star Silk Exports Pvt Ltd',\n",
       "        'Raydan', 'Musa AGRO industries pvt ltd', 'champs Agro Unit',\n",
       "        'Asian fabric mills', 'Green Fibre', 'Deearna Exports',\n",
       "        'Paharat fashion LLP', 'Ikiru', 'Sindinga9', 'Napas Handlooms',\n",
       "        'Chettinad Thari', 'Very Much India', 'the kina', 'Banana Fibers',\n",
       "        'My Clothing Treasure ', 'Uppada', 'Prashanti saree',\n",
       "        'Sriram Textile', 'JothiMathi Textile', 'Nilambari ', '9yardz',\n",
       "        'Vannamayil fashions', 'Sri Lakshmi Stores', \"Sruthi's fashion\",\n",
       "        'Kosigam', 'Ora Organic India', 'Game Changer Texfab pvt ltd',\n",
       "        'Soma Blockprints Private Limited ', 'Lazzari stores',\n",
       "        'Tilly Groups Thuruthel and Solution'], dtype=object))"
      ]
     },
     "execution_count": 41,
     "metadata": {},
     "output_type": "execute_result"
    }
   ],
   "source": [
    "df['company name'].nunique(),df['company name'].unique()"
   ]
  },
  {
   "cell_type": "code",
   "execution_count": 42,
   "id": "328716c3-77f9-42fe-95cc-dd6210cc3cf3",
   "metadata": {},
   "outputs": [],
   "source": [
    "df['company name'] =df['company name'].replace('doctor  towels','doctor towels')"
   ]
  },
  {
   "cell_type": "code",
   "execution_count": 43,
   "id": "56ef353e-cc25-4a07-b449-0afba41b1072",
   "metadata": {},
   "outputs": [
    {
     "data": {
      "text/plain": [
       "41"
      ]
     },
     "execution_count": 43,
     "metadata": {},
     "output_type": "execute_result"
    }
   ],
   "source": [
    "df['company name'].nunique()"
   ]
  },
  {
   "cell_type": "code",
   "execution_count": 44,
   "id": "c32e49b9-5199-4fab-8adf-8910bd650332",
   "metadata": {},
   "outputs": [
    {
     "data": {
      "text/plain": [
       "(28,\n",
       " array(['Golden Ochre', 'Coral', 'Chalk Blue', 'Pastel Green',\n",
       "        'French Blue', 'plain orange', 'Black', 'plain ', 'plain', 'white',\n",
       "        'Beige & Grey', ' Multi', 'green', 'Red', 'pink', 'light yellow',\n",
       "        'Multi', 'French Blue & Golden Ochre', 'Charcoal', 'beach',\n",
       "        'Pink chambray', 'dark green', 'Saddle Brown', 'dark brown',\n",
       "        'dark blue', 'navy blue', 'brown', 'Rust Brown'], dtype=object))"
      ]
     },
     "execution_count": 44,
     "metadata": {},
     "output_type": "execute_result"
    }
   ],
   "source": [
    "df['color'].nunique(),df['color'].unique()"
   ]
  },
  {
   "cell_type": "code",
   "execution_count": 45,
   "id": "4be59c45-d001-45f0-93e4-82cd807a9998",
   "metadata": {},
   "outputs": [],
   "source": [
    "df['color'] =df['color'].replace('plain ','plain')"
   ]
  },
  {
   "cell_type": "code",
   "execution_count": 46,
   "id": "38955fb0-87bf-4c32-9793-ca1f5a6372b5",
   "metadata": {},
   "outputs": [
    {
     "data": {
      "text/plain": [
       "27"
      ]
     },
     "execution_count": 46,
     "metadata": {},
     "output_type": "execute_result"
    }
   ],
   "source": [
    "df['color'].nunique()"
   ]
  },
  {
   "cell_type": "code",
   "execution_count": 39,
   "id": "3f1352e9-6ab6-4a73-bb7d-5599e453b34f",
   "metadata": {},
   "outputs": [
    {
     "data": {
      "text/plain": [
       "43"
      ]
     },
     "execution_count": 39,
     "metadata": {},
     "output_type": "execute_result"
    }
   ],
   "source": [
    "df['product type '].nunique()"
   ]
  },
  {
   "cell_type": "code",
   "execution_count": 40,
   "id": "83bf5826-6fc0-40d1-af8e-0eee6a8503ba",
   "metadata": {},
   "outputs": [
    {
     "data": {
      "text/plain": [
       "3"
      ]
     },
     "execution_count": 40,
     "metadata": {},
     "output_type": "execute_result"
    }
   ],
   "source": [
    "df['rating status'].nunique()"
   ]
  },
  {
   "cell_type": "code",
   "execution_count": null,
   "id": "1b131f99-e121-4572-b3a3-ce985278a2a6",
   "metadata": {},
   "outputs": [],
   "source": [
    "#df_categorical_col = {df.columns=['c']}"
   ]
  }
 ],
 "metadata": {
  "kernelspec": {
   "display_name": "Python 3 (ipykernel)",
   "language": "python",
   "name": "python3"
  },
  "language_info": {
   "codemirror_mode": {
    "name": "ipython",
    "version": 3
   },
   "file_extension": ".py",
   "mimetype": "text/x-python",
   "name": "python",
   "nbconvert_exporter": "python",
   "pygments_lexer": "ipython3",
   "version": "3.12.7"
  }
 },
 "nbformat": 4,
 "nbformat_minor": 5
}
