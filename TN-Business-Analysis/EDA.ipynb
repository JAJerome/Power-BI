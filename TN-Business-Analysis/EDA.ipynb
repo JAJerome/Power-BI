{
 "cells": [
  {
   "cell_type": "markdown",
   "id": "a3fa2b8b-7ec8-4dee-bc03-ed825b876f75",
   "metadata": {},
   "source": [
    "## TN business data EDA"
   ]
  },
  {
   "cell_type": "code",
   "execution_count": 1,
   "id": "11a6ee8e-97ab-435a-96b2-a332cc2ef598",
   "metadata": {},
   "outputs": [],
   "source": [
    "# !pip install pandas\n",
    "# !pip install numpy\n",
    "# !pip install matplotlib\n",
    "# !pip install cufflinks\n",
    "# !pip install seaborn\n",
    "# !pip install chart_studio\n",
    "# !pip install plotly\n",
    "# !pip install scikit-learn"
   ]
  },
  {
   "cell_type": "code",
   "execution_count": 2,
   "id": "6ce7cc86-b848-4483-9b3a-00d85d3ded4b",
   "metadata": {},
   "outputs": [
    {
     "name": "stderr",
     "output_type": "stream",
     "text": [
      "C:\\ProgramData\\anaconda3\\Lib\\site-packages\\paramiko\\pkey.py:82: CryptographyDeprecationWarning:\n",
      "\n",
      "TripleDES has been moved to cryptography.hazmat.decrepit.ciphers.algorithms.TripleDES and will be removed from this module in 48.0.0.\n",
      "\n",
      "C:\\ProgramData\\anaconda3\\Lib\\site-packages\\paramiko\\transport.py:219: CryptographyDeprecationWarning:\n",
      "\n",
      "Blowfish has been moved to cryptography.hazmat.decrepit.ciphers.algorithms.Blowfish and will be removed from this module in 45.0.0.\n",
      "\n",
      "C:\\ProgramData\\anaconda3\\Lib\\site-packages\\paramiko\\transport.py:243: CryptographyDeprecationWarning:\n",
      "\n",
      "TripleDES has been moved to cryptography.hazmat.decrepit.ciphers.algorithms.TripleDES and will be removed from this module in 48.0.0.\n",
      "\n"
     ]
    },
    {
     "data": {
      "text/html": [
       "        <script type=\"text/javascript\">\n",
       "        window.PlotlyConfig = {MathJaxConfig: 'local'};\n",
       "        if (window.MathJax && window.MathJax.Hub && window.MathJax.Hub.Config) {window.MathJax.Hub.Config({SVG: {font: \"STIX-Web\"}});}\n",
       "        if (typeof require !== 'undefined') {\n",
       "        require.undef(\"plotly\");\n",
       "        requirejs.config({\n",
       "            paths: {\n",
       "                'plotly': ['https://cdn.plot.ly/plotly-2.35.2.min']\n",
       "            }\n",
       "        });\n",
       "        require(['plotly'], function(Plotly) {\n",
       "            window._Plotly = Plotly;\n",
       "        });\n",
       "        }\n",
       "        </script>\n",
       "        "
      ]
     },
     "metadata": {},
     "output_type": "display_data"
    },
    {
     "data": {
      "text/html": [
       "        <script type=\"text/javascript\">\n",
       "        window.PlotlyConfig = {MathJaxConfig: 'local'};\n",
       "        if (window.MathJax && window.MathJax.Hub && window.MathJax.Hub.Config) {window.MathJax.Hub.Config({SVG: {font: \"STIX-Web\"}});}\n",
       "        if (typeof require !== 'undefined') {\n",
       "        require.undef(\"plotly\");\n",
       "        requirejs.config({\n",
       "            paths: {\n",
       "                'plotly': ['https://cdn.plot.ly/plotly-2.35.2.min']\n",
       "            }\n",
       "        });\n",
       "        require(['plotly'], function(Plotly) {\n",
       "            window._Plotly = Plotly;\n",
       "        });\n",
       "        }\n",
       "        </script>\n",
       "        "
      ]
     },
     "metadata": {},
     "output_type": "display_data"
    }
   ],
   "source": [
    "import pandas as pd \n",
    "import numpy as np\n",
    "import matplotlib.pyplot as plt \n",
    "import cufflinks as cf\n",
    "import seaborn as sns\n",
    "import chart_studio.plotly as py\n",
    "import plotly.express as px\n",
    "%matplotlib inline\n",
    "from sklearn.model_selection import train_test_split\n",
    "from sklearn.preprocessing import MinMaxScaler, LabelEncoder, OneHotEncoder\n",
    "from sklearn.compose import ColumnTransformer\n",
    "\n",
    "from plotly.offline import download_plotlyjs, init_notebook_mode,plot,iplot\n",
    "init_notebook_mode(connected=True)\n",
    "cf.go_offline()\n",
    "\n",
    "import warnings\n",
    "import re \n",
    "\n",
    "# Ignore all warnings\n",
    "warnings.filterwarnings(\"ignore\",category=DeprecationWarning)"
   ]
  },
  {
   "cell_type": "code",
   "execution_count": 3,
   "id": "ae0c7e19-db19-4a8c-ade3-2774bf14e7b1",
   "metadata": {},
   "outputs": [
    {
     "data": {
      "text/html": [
       "<div>\n",
       "<style scoped>\n",
       "    .dataframe tbody tr th:only-of-type {\n",
       "        vertical-align: middle;\n",
       "    }\n",
       "\n",
       "    .dataframe tbody tr th {\n",
       "        vertical-align: top;\n",
       "    }\n",
       "\n",
       "    .dataframe thead th {\n",
       "        text-align: right;\n",
       "    }\n",
       "</style>\n",
       "<table border=\"1\" class=\"dataframe\">\n",
       "  <thead>\n",
       "    <tr style=\"text-align: right;\">\n",
       "      <th></th>\n",
       "      <th>Business Name</th>\n",
       "      <th>Categories of Businesses</th>\n",
       "      <th>businesses  categories type</th>\n",
       "      <th>Business Type</th>\n",
       "      <th>Size of Business</th>\n",
       "      <th>Year Established</th>\n",
       "      <th>Social Media Presence</th>\n",
       "      <th>Social Media</th>\n",
       "      <th>Social Media status</th>\n",
       "      <th>Revenue Range (Annual)</th>\n",
       "      <th>Target Audience</th>\n",
       "      <th>Major Clients &amp; Customer Base</th>\n",
       "      <th>Phone Number</th>\n",
       "      <th>Email Address</th>\n",
       "      <th>Website</th>\n",
       "      <th>Digital presence</th>\n",
       "      <th>Number of Employees</th>\n",
       "      <th>Location(TN)</th>\n",
       "      <th>Address</th>\n",
       "    </tr>\n",
       "  </thead>\n",
       "  <tbody>\n",
       "    <tr>\n",
       "      <th>0</th>\n",
       "      <td>ANANDHIYA INTERNATIONAL MARKETING PVT LTD</td>\n",
       "      <td>Retail &amp; Wholesale Businesses</td>\n",
       "      <td>Food Processing</td>\n",
       "      <td>partership</td>\n",
       "      <td>large</td>\n",
       "      <td>2018</td>\n",
       "      <td>yes</td>\n",
       "      <td>Facebook</td>\n",
       "      <td>active</td>\n",
       "      <td>NaN</td>\n",
       "      <td>Both</td>\n",
       "      <td>international</td>\n",
       "      <td>+919025245455</td>\n",
       "      <td>support@anandhiya.in</td>\n",
       "      <td>https://www.anandhiya.in/</td>\n",
       "      <td>own web</td>\n",
       "      <td>11-15</td>\n",
       "      <td>Cuddalore</td>\n",
       "      <td>NaN</td>\n",
       "    </tr>\n",
       "    <tr>\n",
       "      <th>1</th>\n",
       "      <td>RHK studio</td>\n",
       "      <td>Photography</td>\n",
       "      <td>Event Photography</td>\n",
       "      <td>sole proprietorship</td>\n",
       "      <td>small</td>\n",
       "      <td>2019</td>\n",
       "      <td>yes</td>\n",
       "      <td>FB &amp; insta</td>\n",
       "      <td>active</td>\n",
       "      <td>NaN</td>\n",
       "      <td>b2c</td>\n",
       "      <td>local</td>\n",
       "      <td>+91 7010754876</td>\n",
       "      <td>rhkstudio@outlook.com</td>\n",
       "      <td>https://rhkstudio.com/</td>\n",
       "      <td>own web</td>\n",
       "      <td>1-5</td>\n",
       "      <td>Cuddalore</td>\n",
       "      <td>NaN</td>\n",
       "    </tr>\n",
       "    <tr>\n",
       "      <th>2</th>\n",
       "      <td>Enoch computers</td>\n",
       "      <td>Retail &amp; Wholesale Businesses</td>\n",
       "      <td>Electronics &amp; Mobile Stores</td>\n",
       "      <td>sole proprietorship</td>\n",
       "      <td>medium</td>\n",
       "      <td>NaN</td>\n",
       "      <td>yes</td>\n",
       "      <td>Facebook</td>\n",
       "      <td>inactive</td>\n",
       "      <td>NaN</td>\n",
       "      <td>both</td>\n",
       "      <td>local</td>\n",
       "      <td>9367610951</td>\n",
       "      <td>NaN</td>\n",
       "      <td>https://magicpin.in/Cuddalore/Cuddalore/Electr...</td>\n",
       "      <td>third party</td>\n",
       "      <td>NaN</td>\n",
       "      <td>Cuddalore</td>\n",
       "      <td>NaN</td>\n",
       "    </tr>\n",
       "    <tr>\n",
       "      <th>3</th>\n",
       "      <td>Beyonfinity business solutions</td>\n",
       "      <td>Technology &amp; IT Services</td>\n",
       "      <td>Software Development Companies</td>\n",
       "      <td>sole proprietorship</td>\n",
       "      <td>medium</td>\n",
       "      <td>1993</td>\n",
       "      <td>yes</td>\n",
       "      <td>Facebook</td>\n",
       "      <td>active</td>\n",
       "      <td>NaN</td>\n",
       "      <td>b2b</td>\n",
       "      <td>international</td>\n",
       "      <td>770-546-90190</td>\n",
       "      <td>info.beyonfinity@gmail.com</td>\n",
       "      <td>https://www.sulekha.com/beyonfinity-business-s...</td>\n",
       "      <td>third party</td>\n",
       "      <td>NaN</td>\n",
       "      <td>Cuddalore</td>\n",
       "      <td>NaN</td>\n",
       "    </tr>\n",
       "    <tr>\n",
       "      <th>4</th>\n",
       "      <td>the paver company</td>\n",
       "      <td>Construction &amp; Real Estate</td>\n",
       "      <td>Interior Designers &amp; Architects</td>\n",
       "      <td>sole proprietorship</td>\n",
       "      <td>medium</td>\n",
       "      <td>2011</td>\n",
       "      <td>NaN</td>\n",
       "      <td>NaN</td>\n",
       "      <td>NaN</td>\n",
       "      <td>NaN</td>\n",
       "      <td>b2b</td>\n",
       "      <td>local</td>\n",
       "      <td>+9162228844</td>\n",
       "      <td>NaN</td>\n",
       "      <td>https://www.yelu.in/company/964854/the-paver-c...</td>\n",
       "      <td>third party</td>\n",
       "      <td>500-1000</td>\n",
       "      <td>Cuddalore</td>\n",
       "      <td>NaN</td>\n",
       "    </tr>\n",
       "    <tr>\n",
       "      <th>...</th>\n",
       "      <td>...</td>\n",
       "      <td>...</td>\n",
       "      <td>...</td>\n",
       "      <td>...</td>\n",
       "      <td>...</td>\n",
       "      <td>...</td>\n",
       "      <td>...</td>\n",
       "      <td>...</td>\n",
       "      <td>...</td>\n",
       "      <td>...</td>\n",
       "      <td>...</td>\n",
       "      <td>...</td>\n",
       "      <td>...</td>\n",
       "      <td>...</td>\n",
       "      <td>...</td>\n",
       "      <td>...</td>\n",
       "      <td>...</td>\n",
       "      <td>...</td>\n",
       "      <td>...</td>\n",
       "    </tr>\n",
       "    <tr>\n",
       "      <th>695</th>\n",
       "      <td>Sundaravel Match Industries Private Limited</td>\n",
       "      <td>Manufacturing</td>\n",
       "      <td>Manufacturers and Exporters of Safety Matches,...</td>\n",
       "      <td>Limited Liability partnership</td>\n",
       "      <td>medium</td>\n",
       "      <td>1972</td>\n",
       "      <td>no</td>\n",
       "      <td>NaN</td>\n",
       "      <td>NaN</td>\n",
       "      <td>NaN</td>\n",
       "      <td>b2b</td>\n",
       "      <td>international</td>\n",
       "      <td>+91 4562 272147</td>\n",
       "      <td>enquiry@sundaravelgroup.com</td>\n",
       "      <td>https://www.sundaravelgroup.com/</td>\n",
       "      <td>own web</td>\n",
       "      <td>5000</td>\n",
       "      <td>Sivakasi</td>\n",
       "      <td>69\\nA.S.K. Thangaiah Nadar Road,Sivakasi 626123</td>\n",
       "    </tr>\n",
       "    <tr>\n",
       "      <th>696</th>\n",
       "      <td>Wedding Aaha</td>\n",
       "      <td>Hospitality Industry</td>\n",
       "      <td>Event Oraganiser, Corporate Events, Birthday ...</td>\n",
       "      <td>Limited Liability partnership</td>\n",
       "      <td>medium</td>\n",
       "      <td>2012</td>\n",
       "      <td>yes</td>\n",
       "      <td>X,fb &amp; insta</td>\n",
       "      <td>active</td>\n",
       "      <td>NaN</td>\n",
       "      <td>b2b</td>\n",
       "      <td>local</td>\n",
       "      <td>+91 9940662455</td>\n",
       "      <td>info@weddingaaha.com</td>\n",
       "      <td>https://www.weddingaaha.com/</td>\n",
       "      <td>own web</td>\n",
       "      <td>20-49</td>\n",
       "      <td>chennai</td>\n",
       "      <td>A5 Ganesh Apartments\\n52, N Mada St, Mylapore,...</td>\n",
       "    </tr>\n",
       "    <tr>\n",
       "      <th>697</th>\n",
       "      <td>Taj Connemara Hotel</td>\n",
       "      <td>Hospitality Industry</td>\n",
       "      <td>Hotels &amp; Restaurants</td>\n",
       "      <td>partership</td>\n",
       "      <td>large</td>\n",
       "      <td>1902</td>\n",
       "      <td>NaN</td>\n",
       "      <td>NaN</td>\n",
       "      <td>NaN</td>\n",
       "      <td>NaN</td>\n",
       "      <td>Both</td>\n",
       "      <td>local</td>\n",
       "      <td>+91 44 66000000</td>\n",
       "      <td>contacttaj@tajhotels.com</td>\n",
       "      <td>https://www.tajhotels.com/en-in</td>\n",
       "      <td>own web</td>\n",
       "      <td>500-999</td>\n",
       "      <td>chennai</td>\n",
       "      <td>Binny Road,Chennai 600002</td>\n",
       "    </tr>\n",
       "    <tr>\n",
       "      <th>698</th>\n",
       "      <td>Hotel Shelter</td>\n",
       "      <td>Hospitality Industry</td>\n",
       "      <td>Hotels &amp; Restaurants</td>\n",
       "      <td>NaN</td>\n",
       "      <td>medium</td>\n",
       "      <td>NaN</td>\n",
       "      <td>yes</td>\n",
       "      <td>X,fb &amp; insta</td>\n",
       "      <td>active</td>\n",
       "      <td>NaN</td>\n",
       "      <td>b2c</td>\n",
       "      <td>local</td>\n",
       "      <td>+91 9840423939</td>\n",
       "      <td>reserve@hotelshelter.com</td>\n",
       "      <td>https://www.hotelshelter.com/</td>\n",
       "      <td>own web</td>\n",
       "      <td>NaN</td>\n",
       "      <td>chennai</td>\n",
       "      <td>19,20 &amp; 21,Venkatesa Agraharam Street,\\n(Opp.S...</td>\n",
       "    </tr>\n",
       "    <tr>\n",
       "      <th>699</th>\n",
       "      <td>Poorna Ayur</td>\n",
       "      <td>Healthcare &amp; Medical Services</td>\n",
       "      <td>Ayurvedic &amp; Homeopathy Centers</td>\n",
       "      <td>NaN</td>\n",
       "      <td>medium</td>\n",
       "      <td>2017</td>\n",
       "      <td>no</td>\n",
       "      <td>X,fb &amp; insta</td>\n",
       "      <td>inactive</td>\n",
       "      <td>NaN</td>\n",
       "      <td>b2c</td>\n",
       "      <td>local</td>\n",
       "      <td>+91 73395 49222</td>\n",
       "      <td>info@poornaayur.in</td>\n",
       "      <td>https://poornaayur.in/</td>\n",
       "      <td>own web</td>\n",
       "      <td>10-19</td>\n",
       "      <td>coimbatore</td>\n",
       "      <td>No.128, A2, 1st Floor, Luxx Salon &amp; 45 Gym Bui...</td>\n",
       "    </tr>\n",
       "  </tbody>\n",
       "</table>\n",
       "<p>700 rows × 19 columns</p>\n",
       "</div>"
      ],
      "text/plain": [
       "                                   Business Name  \\\n",
       "0      ANANDHIYA INTERNATIONAL MARKETING PVT LTD   \n",
       "1                                     RHK studio   \n",
       "2                                Enoch computers   \n",
       "3                 Beyonfinity business solutions   \n",
       "4                              the paver company   \n",
       "..                                           ...   \n",
       "695  Sundaravel Match Industries Private Limited   \n",
       "696                                 Wedding Aaha   \n",
       "697                          Taj Connemara Hotel   \n",
       "698                                Hotel Shelter   \n",
       "699                                  Poorna Ayur   \n",
       "\n",
       "          Categories of Businesses  \\\n",
       "0    Retail & Wholesale Businesses   \n",
       "1                     Photography    \n",
       "2    Retail & Wholesale Businesses   \n",
       "3         Technology & IT Services   \n",
       "4       Construction & Real Estate   \n",
       "..                             ...   \n",
       "695                  Manufacturing   \n",
       "696           Hospitality Industry   \n",
       "697           Hospitality Industry   \n",
       "698           Hospitality Industry   \n",
       "699  Healthcare & Medical Services   \n",
       "\n",
       "                           businesses  categories type  \\\n",
       "0                                      Food Processing   \n",
       "1                                    Event Photography   \n",
       "2                          Electronics & Mobile Stores   \n",
       "3                       Software Development Companies   \n",
       "4                      Interior Designers & Architects   \n",
       "..                                                 ...   \n",
       "695  Manufacturers and Exporters of Safety Matches,...   \n",
       "696   Event Oraganiser, Corporate Events, Birthday ...   \n",
       "697                              Hotels & Restaurants    \n",
       "698                              Hotels & Restaurants    \n",
       "699                     Ayurvedic & Homeopathy Centers   \n",
       "\n",
       "                     Business Type Size of Business Year Established  \\\n",
       "0                       partership            large             2018   \n",
       "1              sole proprietorship            small             2019   \n",
       "2              sole proprietorship           medium              NaN   \n",
       "3              sole proprietorship           medium             1993   \n",
       "4              sole proprietorship           medium             2011   \n",
       "..                             ...              ...              ...   \n",
       "695  Limited Liability partnership           medium             1972   \n",
       "696  Limited Liability partnership           medium             2012   \n",
       "697                     partership            large             1902   \n",
       "698                            NaN           medium              NaN   \n",
       "699                            NaN           medium             2017   \n",
       "\n",
       "    Social Media Presence  Social Media   Social Media status  \\\n",
       "0                     yes       Facebook               active   \n",
       "1                     yes     FB & insta               active   \n",
       "2                     yes       Facebook             inactive   \n",
       "3                     yes       Facebook               active   \n",
       "4                     NaN            NaN                  NaN   \n",
       "..                    ...            ...                  ...   \n",
       "695                    no            NaN                  NaN   \n",
       "696                   yes   X,fb & insta               active   \n",
       "697                   NaN            NaN                  NaN   \n",
       "698                   yes   X,fb & insta               active   \n",
       "699                    no   X,fb & insta             inactive   \n",
       "\n",
       "    Revenue Range (Annual) Target Audience Major Clients & Customer Base  \\\n",
       "0                      NaN            Both                 international   \n",
       "1                      NaN             b2c                         local   \n",
       "2                      NaN            both                         local   \n",
       "3                      NaN             b2b                 international   \n",
       "4                      NaN             b2b                         local   \n",
       "..                     ...             ...                           ...   \n",
       "695                    NaN             b2b                 international   \n",
       "696                    NaN             b2b                         local   \n",
       "697                    NaN            Both                         local   \n",
       "698                    NaN             b2c                         local   \n",
       "699                    NaN             b2c                         local   \n",
       "\n",
       "        Phone Number                Email Address  \\\n",
       "0      +919025245455         support@anandhiya.in   \n",
       "1     +91 7010754876        rhkstudio@outlook.com   \n",
       "2         9367610951                          NaN   \n",
       "3      770-546-90190   info.beyonfinity@gmail.com   \n",
       "4        +9162228844                          NaN   \n",
       "..               ...                          ...   \n",
       "695  +91 4562 272147  enquiry@sundaravelgroup.com   \n",
       "696   +91 9940662455         info@weddingaaha.com   \n",
       "697  +91 44 66000000     contacttaj@tajhotels.com   \n",
       "698   +91 9840423939     reserve@hotelshelter.com   \n",
       "699  +91 73395 49222           info@poornaayur.in   \n",
       "\n",
       "                                              Website  Digital presence  \\\n",
       "0                            https://www.anandhiya.in/          own web   \n",
       "1                               https://rhkstudio.com/          own web   \n",
       "2    https://magicpin.in/Cuddalore/Cuddalore/Electr...      third party   \n",
       "3    https://www.sulekha.com/beyonfinity-business-s...      third party   \n",
       "4    https://www.yelu.in/company/964854/the-paver-c...      third party   \n",
       "..                                                 ...              ...   \n",
       "695                   https://www.sundaravelgroup.com/          own web   \n",
       "696                       https://www.weddingaaha.com/          own web   \n",
       "697                    https://www.tajhotels.com/en-in          own web   \n",
       "698                      https://www.hotelshelter.com/          own web   \n",
       "699                             https://poornaayur.in/          own web   \n",
       "\n",
       "    Number of Employees Location(TN)  \\\n",
       "0                 11-15    Cuddalore   \n",
       "1                   1-5    Cuddalore   \n",
       "2                   NaN    Cuddalore   \n",
       "3                   NaN    Cuddalore   \n",
       "4              500-1000    Cuddalore   \n",
       "..                  ...          ...   \n",
       "695                5000     Sivakasi   \n",
       "696               20-49      chennai   \n",
       "697             500-999      chennai   \n",
       "698                 NaN      chennai   \n",
       "699               10-19   coimbatore   \n",
       "\n",
       "                                               Address  \n",
       "0                                                  NaN  \n",
       "1                                                  NaN  \n",
       "2                                                  NaN  \n",
       "3                                                  NaN  \n",
       "4                                                  NaN  \n",
       "..                                                 ...  \n",
       "695    69\\nA.S.K. Thangaiah Nadar Road,Sivakasi 626123  \n",
       "696  A5 Ganesh Apartments\\n52, N Mada St, Mylapore,...  \n",
       "697                          Binny Road,Chennai 600002  \n",
       "698  19,20 & 21,Venkatesa Agraharam Street,\\n(Opp.S...  \n",
       "699  No.128, A2, 1st Floor, Luxx Salon & 45 Gym Bui...  \n",
       "\n",
       "[700 rows x 19 columns]"
      ]
     },
     "execution_count": 3,
     "metadata": {},
     "output_type": "execute_result"
    }
   ],
   "source": [
    "# reading the dataset \n",
    "df = pd.read_excel(\"business_data.xlsx\")\n",
    "df"
   ]
  },
  {
   "cell_type": "markdown",
   "id": "a58edcdb-8510-4d30-a8b5-94c1c42669e6",
   "metadata": {},
   "source": [
    "## Data cleaning process "
   ]
  },
  {
   "cell_type": "code",
   "execution_count": 4,
   "id": "4fdc1116-586f-4444-b57a-51c4156b826b",
   "metadata": {},
   "outputs": [
    {
     "name": "stdout",
     "output_type": "stream",
     "text": [
      "<class 'pandas.core.frame.DataFrame'>\n",
      "RangeIndex: 700 entries, 0 to 699\n",
      "Data columns (total 19 columns):\n",
      " #   Column                         Non-Null Count  Dtype \n",
      "---  ------                         --------------  ----- \n",
      " 0   Business Name                  700 non-null    object\n",
      " 1   Categories of Businesses       700 non-null    object\n",
      " 2   businesses  categories type    700 non-null    object\n",
      " 3   Business Type                  438 non-null    object\n",
      " 4   Size of Business               699 non-null    object\n",
      " 5   Year Established               447 non-null    object\n",
      " 6   Social Media Presence          667 non-null    object\n",
      " 7    Social Media                  429 non-null    object\n",
      " 8    Social Media status           452 non-null    object\n",
      " 9   Revenue Range (Annual)         91 non-null     object\n",
      " 10  Target Audience                699 non-null    object\n",
      " 11  Major Clients & Customer Base  699 non-null    object\n",
      " 12  Phone Number                   592 non-null    object\n",
      " 13  Email Address                  441 non-null    object\n",
      " 14  Website                        699 non-null    object\n",
      " 15  Digital presence               699 non-null    object\n",
      " 16  Number of Employees            266 non-null    object\n",
      " 17  Location(TN)                   697 non-null    object\n",
      " 18  Address                        633 non-null    object\n",
      "dtypes: object(19)\n",
      "memory usage: 104.0+ KB\n"
     ]
    }
   ],
   "source": [
    "df.info()"
   ]
  },
  {
   "cell_type": "code",
   "execution_count": 5,
   "id": "a1a04919-d2e5-4c74-95b7-2be1242edf62",
   "metadata": {},
   "outputs": [
    {
     "data": {
      "text/plain": [
       "Business Name                    object\n",
       "Categories of Businesses         object\n",
       "businesses  categories type      object\n",
       "Business Type                    object\n",
       "Size of Business                 object\n",
       "Year Established                 object\n",
       "Social Media Presence            object\n",
       " Social Media                    object\n",
       " Social Media status             object\n",
       "Revenue Range (Annual)           object\n",
       "Target Audience                  object\n",
       "Major Clients & Customer Base    object\n",
       "Phone Number                     object\n",
       "Email Address                    object\n",
       "Website                          object\n",
       "Digital presence                 object\n",
       "Number of Employees              object\n",
       "Location(TN)                     object\n",
       "Address                          object\n",
       "dtype: object"
      ]
     },
     "execution_count": 5,
     "metadata": {},
     "output_type": "execute_result"
    }
   ],
   "source": [
    "#checking the data types\n",
    "df.dtypes"
   ]
  },
  {
   "cell_type": "code",
   "execution_count": 6,
   "id": "c6c3adfa-6c7b-43de-bd29-1203cb009b67",
   "metadata": {},
   "outputs": [
    {
     "data": {
      "text/plain": [
       "Business Name                      0\n",
       "Categories of Businesses           0\n",
       "businesses  categories type        0\n",
       "Business Type                    262\n",
       "Size of Business                   1\n",
       "Year Established                 253\n",
       "Social Media Presence             33\n",
       " Social Media                    271\n",
       " Social Media status             248\n",
       "Revenue Range (Annual)           609\n",
       "Target Audience                    1\n",
       "Major Clients & Customer Base      1\n",
       "Phone Number                     108\n",
       "Email Address                    259\n",
       "Website                            1\n",
       "Digital presence                   1\n",
       "Number of Employees              434\n",
       "Location(TN)                       3\n",
       "Address                           67\n",
       "dtype: int64"
      ]
     },
     "execution_count": 6,
     "metadata": {},
     "output_type": "execute_result"
    }
   ],
   "source": [
    "# checking for null values\n",
    "df.isnull().sum()"
   ]
  },
  {
   "cell_type": "code",
   "execution_count": 7,
   "id": "62a5e122-57fd-455b-ad80-12cff1954ce5",
   "metadata": {},
   "outputs": [
    {
     "data": {
      "text/plain": [
       "0"
      ]
     },
     "execution_count": 7,
     "metadata": {},
     "output_type": "execute_result"
    }
   ],
   "source": [
    "# checking for duplicates\n",
    "df.duplicated().sum()"
   ]
  },
  {
   "cell_type": "code",
   "execution_count": 8,
   "id": "4e7c44bd-be31-40c0-81d9-304ed05e09ec",
   "metadata": {},
   "outputs": [],
   "source": [
    "## converting the string to lowercase\n",
    "df.columns=df.columns.str.lower()"
   ]
  },
  {
   "cell_type": "code",
   "execution_count": 9,
   "id": "7c90c710-86c4-4be0-a0a2-27add9f78a52",
   "metadata": {},
   "outputs": [
    {
     "data": {
      "text/plain": [
       "Index(['business name', 'categories of businesses',\n",
       "       'businesses  categories type', 'business type', 'size of business',\n",
       "       'year established', 'social media presence', ' social media ',\n",
       "       ' social media status', 'revenue range (annual)', 'target audience',\n",
       "       'major clients & customer base', 'phone number', 'email address',\n",
       "       'website ', 'digital presence', 'number of employees', 'location(tn)',\n",
       "       'address'],\n",
       "      dtype='object')"
      ]
     },
     "execution_count": 9,
     "metadata": {},
     "output_type": "execute_result"
    }
   ],
   "source": [
    "df.columns"
   ]
  },
  {
   "cell_type": "markdown",
   "id": "a499ca62-1d3a-4e68-a3d0-bbc59a6a1ed4",
   "metadata": {},
   "source": [
    "#### Handling missing values"
   ]
  },
  {
   "cell_type": "code",
   "execution_count": 10,
   "id": "381fe10a-9708-4894-ad85-239da6aa4488",
   "metadata": {},
   "outputs": [
    {
     "data": {
      "text/plain": [
       "business name                      0\n",
       "categories of businesses           0\n",
       "businesses  categories type        0\n",
       "business type                    262\n",
       "size of business                   1\n",
       "year established                 253\n",
       "social media presence             33\n",
       " social media                    271\n",
       " social media status             248\n",
       "revenue range (annual)           609\n",
       "target audience                    1\n",
       "major clients & customer base      1\n",
       "phone number                     108\n",
       "email address                    259\n",
       "website                            1\n",
       "digital presence                   1\n",
       "number of employees              434\n",
       "location(tn)                       3\n",
       "address                           67\n",
       "dtype: int64"
      ]
     },
     "execution_count": 10,
     "metadata": {},
     "output_type": "execute_result"
    }
   ],
   "source": [
    "df.isnull().sum()"
   ]
  },
  {
   "cell_type": "code",
   "execution_count": 11,
   "id": "16b099c3-9a48-48f0-9d57-b4246240b795",
   "metadata": {},
   "outputs": [],
   "source": [
    "def extract_max_number(value):\n",
    "    if pd.isna(value):\n",
    "        return None  # Leave NaN as it is\n",
    "    numbers = re.findall(r'\\d+(?:,\\d+)*', str(value))\n",
    "    numbers = [int(num.replace(',', '')) for num in numbers]\n",
    "    if numbers:\n",
    "        return max(numbers)\n",
    "    else:\n",
    "        return None\n",
    "\n",
    "# Apply to your column\n",
    "df['revenue range (annual)'] = df['revenue range (annual)'].apply(extract_max_number).astype('float')"
   ]
  },
  {
   "cell_type": "code",
   "execution_count": 12,
   "id": "b15f26b6-fcfc-4694-afe1-a0243b5db158",
   "metadata": {},
   "outputs": [],
   "source": [
    "# Filling NaN with Median value\n",
    "df['revenue range (annual)'] = df['revenue range (annual)'].fillna(df['revenue range (annual)'].median())"
   ]
  },
  {
   "cell_type": "code",
   "execution_count": 13,
   "id": "e44bd0e6-b077-4470-b1e5-3cc2c0c507f0",
   "metadata": {},
   "outputs": [],
   "source": [
    "df[' social media status'] = df[' social media status'].fillna('inactive')"
   ]
  },
  {
   "cell_type": "code",
   "execution_count": 14,
   "id": "1e6dfd25-d1a7-4bcc-b540-509a1e83ec15",
   "metadata": {},
   "outputs": [
    {
     "data": {
      "text/plain": [
       "array(['active', 'inactive'], dtype=object)"
      ]
     },
     "execution_count": 14,
     "metadata": {},
     "output_type": "execute_result"
    }
   ],
   "source": [
    "df[' social media status'].unique()"
   ]
  },
  {
   "cell_type": "code",
   "execution_count": 15,
   "id": "7a6b600a-97d3-44e6-b948-910c7c24f2c6",
   "metadata": {},
   "outputs": [
    {
     "data": {
      "text/plain": [
       "array(['yes', nan, 'no'], dtype=object)"
      ]
     },
     "execution_count": 15,
     "metadata": {},
     "output_type": "execute_result"
    }
   ],
   "source": [
    "df['social media presence'].unique()"
   ]
  },
  {
   "cell_type": "code",
   "execution_count": 16,
   "id": "9cb883c1-4a30-4b86-9e1d-39a856dc2819",
   "metadata": {},
   "outputs": [],
   "source": [
    "df['social media presence'] = df['social media presence'].fillna('no')"
   ]
  },
  {
   "cell_type": "code",
   "execution_count": 17,
   "id": "f2d92a17-d8e0-4fd8-942a-e2c33a251a84",
   "metadata": {},
   "outputs": [
    {
     "data": {
      "text/plain": [
       "array(['Facebook', 'FB & insta', nan, 'insta', 'linkedin', 'X,fb & insta',\n",
       "       \"what'sapp\", 'fb & insta', 'fb & linkdin', 'fb', 'fb&insta',\n",
       "       'facebook'], dtype=object)"
      ]
     },
     "execution_count": 17,
     "metadata": {},
     "output_type": "execute_result"
    }
   ],
   "source": [
    "df[' social media '].unique()"
   ]
  },
  {
   "cell_type": "code",
   "execution_count": 18,
   "id": "12b68ff8-1138-46ec-80aa-c85b527a20db",
   "metadata": {},
   "outputs": [],
   "source": [
    "df[' social media '] = df[' social media '].replace('Facebook', 'facebook')\n",
    "df[' social media '] = df[' social media '].replace('fb&insta', 'fb & insta')\n",
    "df[' social media '] = df[' social media '].replace('FB & insta', 'fb & insta')\n",
    "df[' social media '] = df[' social media '].replace('fb', 'facebook')"
   ]
  },
  {
   "cell_type": "code",
   "execution_count": 19,
   "id": "57ef4ca4-2187-415b-9fdc-06fd09ce4849",
   "metadata": {},
   "outputs": [
    {
     "data": {
      "text/plain": [
       "array(['facebook', 'fb & insta', nan, 'insta', 'linkedin', 'X,fb & insta',\n",
       "       \"what'sapp\", 'fb & linkdin'], dtype=object)"
      ]
     },
     "execution_count": 19,
     "metadata": {},
     "output_type": "execute_result"
    }
   ],
   "source": [
    "df[' social media '].unique()"
   ]
  },
  {
   "cell_type": "code",
   "execution_count": 20,
   "id": "a536e15a-c182-4843-a853-1541dbcb4c58",
   "metadata": {},
   "outputs": [],
   "source": [
    "df[' social media '] = df[' social media '].fillna('not available')"
   ]
  },
  {
   "cell_type": "code",
   "execution_count": 21,
   "id": "b33ed972-590f-4d17-b045-7fe43362f01e",
   "metadata": {},
   "outputs": [
    {
     "data": {
      "text/plain": [
       "array(['facebook', 'fb & insta', 'not available', 'insta', 'linkedin',\n",
       "       'X,fb & insta', \"what'sapp\", 'fb & linkdin'], dtype=object)"
      ]
     },
     "execution_count": 21,
     "metadata": {},
     "output_type": "execute_result"
    }
   ],
   "source": [
    "df[' social media '].unique()"
   ]
  },
  {
   "cell_type": "code",
   "execution_count": 22,
   "id": "5e02e75b-0fdc-4a53-a688-b94a1d13695c",
   "metadata": {},
   "outputs": [
    {
     "data": {
      "text/plain": [
       "array(['partership', 'sole proprietorship', nan, 'others',\n",
       "       'Corporation/Limited Liability Company', 'limited company',\n",
       "       'Public Limited Company', 'Private Limited Company',\n",
       "       'Limited Liability partnership', 'Public Limited Company\\u200b',\n",
       "       '\\tPublic Limited Company', 'Central Public Sector Undertaking',\n",
       "       'Private Conglomerate'], dtype=object)"
      ]
     },
     "execution_count": 22,
     "metadata": {},
     "output_type": "execute_result"
    }
   ],
   "source": [
    "df['business type'].unique()"
   ]
  },
  {
   "cell_type": "code",
   "execution_count": 23,
   "id": "2349198e-04e9-455b-b6d2-5a87b79883ab",
   "metadata": {},
   "outputs": [],
   "source": [
    "df['business type'] = df['business type'].replace('Public Limited Company\\u200b', 'Public Limited Company')\n",
    "df['business type'] = df['business type'].replace('\\tPublic Limited Company', 'Public Limited Company')"
   ]
  },
  {
   "cell_type": "code",
   "execution_count": 24,
   "id": "57994f46-39b0-4d5c-8365-b3c6ca82ddf4",
   "metadata": {},
   "outputs": [],
   "source": [
    "df['business type'] = df['business type'].fillna('not available')"
   ]
  },
  {
   "cell_type": "code",
   "execution_count": 25,
   "id": "ee606db7-c364-4913-887f-402b6dc68f7c",
   "metadata": {},
   "outputs": [
    {
     "data": {
      "text/plain": [
       "array(['partership', 'sole proprietorship', 'not available', 'others',\n",
       "       'Corporation/Limited Liability Company', 'limited company',\n",
       "       'Public Limited Company', 'Private Limited Company',\n",
       "       'Limited Liability partnership',\n",
       "       'Central Public Sector Undertaking', 'Private Conglomerate'],\n",
       "      dtype=object)"
      ]
     },
     "execution_count": 25,
     "metadata": {},
     "output_type": "execute_result"
    }
   ],
   "source": [
    "df['business type'].unique()"
   ]
  },
  {
   "cell_type": "code",
   "execution_count": 26,
   "id": "d011632f-e490-449c-9671-f39db0d56bc4",
   "metadata": {},
   "outputs": [
    {
     "data": {
      "text/plain": [
       "array(['large', 'small', 'medium', nan], dtype=object)"
      ]
     },
     "execution_count": 26,
     "metadata": {},
     "output_type": "execute_result"
    }
   ],
   "source": [
    "df['size of business'].unique()"
   ]
  },
  {
   "cell_type": "code",
   "execution_count": 27,
   "id": "c9f986e2-2a9d-435b-859f-454a82b6b2d6",
   "metadata": {},
   "outputs": [],
   "source": [
    "df['size of business'] = df['size of business'].fillna('medium')"
   ]
  },
  {
   "cell_type": "code",
   "execution_count": 28,
   "id": "2973d588-6cc3-4ac2-83cd-9d1c502e4665",
   "metadata": {},
   "outputs": [
    {
     "data": {
      "text/plain": [
       "dtype('O')"
      ]
     },
     "execution_count": 28,
     "metadata": {},
     "output_type": "execute_result"
    }
   ],
   "source": [
    "df['year established'].dtypes"
   ]
  },
  {
   "cell_type": "code",
   "execution_count": 29,
   "id": "f02c15b2-3a25-4af3-9f25-bf9cd9ee2f45",
   "metadata": {},
   "outputs": [],
   "source": [
    "df['year established'] = df['year established'].fillna('0000')"
   ]
  },
  {
   "cell_type": "code",
   "execution_count": 30,
   "id": "fa143110-1975-4d75-bddf-acba0057c7bd",
   "metadata": {},
   "outputs": [],
   "source": [
    "df['year established'] = df['year established'].str.extract(r'(\\d+)')"
   ]
  },
  {
   "cell_type": "code",
   "execution_count": 31,
   "id": "0e6a15cb-9b6e-4374-9d5c-07fdb734890e",
   "metadata": {},
   "outputs": [],
   "source": [
    "df['year established'] = df['year established'].fillna('0000')"
   ]
  },
  {
   "cell_type": "code",
   "execution_count": 32,
   "id": "0bb57099-c85d-41e4-b581-cdd9288751e4",
   "metadata": {},
   "outputs": [
    {
     "data": {
      "text/plain": [
       "dtype('int32')"
      ]
     },
     "execution_count": 32,
     "metadata": {},
     "output_type": "execute_result"
    }
   ],
   "source": [
    "df['year established'] = df['year established'].astype(int)  # Convert to int\n",
    "df['year established'].dtypes"
   ]
  },
  {
   "cell_type": "code",
   "execution_count": 33,
   "id": "b6c89cf4-ad0b-454b-b73a-bb5aa9910fab",
   "metadata": {},
   "outputs": [
    {
     "data": {
      "text/plain": [
       "array(['Both', 'b2c', 'both', 'b2b', nan, 'b2n', 'b2'], dtype=object)"
      ]
     },
     "execution_count": 33,
     "metadata": {},
     "output_type": "execute_result"
    }
   ],
   "source": [
    "df['target audience'].unique()"
   ]
  },
  {
   "cell_type": "code",
   "execution_count": 34,
   "id": "68bcf804-10d8-41e3-9c2b-03cc6c1693a2",
   "metadata": {},
   "outputs": [],
   "source": [
    "df['target audience'] = df['target audience'].replace('Both', 'both')\n",
    "df['target audience'] = df['target audience'].replace('b2n', 'both')\n",
    "df['target audience'] = df['target audience'].replace('b2', 'both')\n",
    "df['target audience'] = df['target audience'].fillna('both')"
   ]
  },
  {
   "cell_type": "code",
   "execution_count": 35,
   "id": "dfff351f-0cda-4770-95ad-a93308b4c86f",
   "metadata": {},
   "outputs": [
    {
     "data": {
      "text/plain": [
       "array(['both', 'b2c', 'b2b'], dtype=object)"
      ]
     },
     "execution_count": 35,
     "metadata": {},
     "output_type": "execute_result"
    }
   ],
   "source": [
    "df['target audience'].unique()"
   ]
  },
  {
   "cell_type": "code",
   "execution_count": 36,
   "id": "4403e4d1-ff6d-412c-9733-87718b5fda24",
   "metadata": {},
   "outputs": [
    {
     "data": {
      "text/plain": [
       "array(['international', 'local', nan, 'both'], dtype=object)"
      ]
     },
     "execution_count": 36,
     "metadata": {},
     "output_type": "execute_result"
    }
   ],
   "source": [
    "df['major clients & customer base'].unique()"
   ]
  },
  {
   "cell_type": "code",
   "execution_count": 37,
   "id": "4f473310-b96f-4dcb-b635-e30babc4386c",
   "metadata": {},
   "outputs": [],
   "source": [
    "df['major clients & customer base'] = df['major clients & customer base'].fillna('both')"
   ]
  },
  {
   "cell_type": "code",
   "execution_count": 38,
   "id": "22304051-48f3-4fbc-aba7-e46a8362be72",
   "metadata": {},
   "outputs": [
    {
     "data": {
      "text/plain": [
       "array(['international', 'local', 'both'], dtype=object)"
      ]
     },
     "execution_count": 38,
     "metadata": {},
     "output_type": "execute_result"
    }
   ],
   "source": [
    "df['major clients & customer base'].unique()"
   ]
  },
  {
   "cell_type": "code",
   "execution_count": 39,
   "id": "d5661ba7-a8d0-4522-88eb-a8f5943291ae",
   "metadata": {},
   "outputs": [
    {
     "data": {
      "text/plain": [
       "array(['own web', 'third party', 'own', nan, 'both'], dtype=object)"
      ]
     },
     "execution_count": 39,
     "metadata": {},
     "output_type": "execute_result"
    }
   ],
   "source": [
    "df['digital presence'].unique()"
   ]
  },
  {
   "cell_type": "code",
   "execution_count": 40,
   "id": "70a78baf-dccf-4fd0-beba-ee4c821c492a",
   "metadata": {},
   "outputs": [],
   "source": [
    "df['digital presence'] = df['digital presence'].replace('own', 'own web')\n",
    "df['digital presence'] = df['digital presence'].fillna('third party')"
   ]
  },
  {
   "cell_type": "code",
   "execution_count": 41,
   "id": "2d599a54-3c57-4ca3-8141-f8307af7054f",
   "metadata": {},
   "outputs": [
    {
     "data": {
      "text/plain": [
       "array(['own web', 'third party', 'both'], dtype=object)"
      ]
     },
     "execution_count": 41,
     "metadata": {},
     "output_type": "execute_result"
    }
   ],
   "source": [
    "df['digital presence'].unique()"
   ]
  },
  {
   "cell_type": "code",
   "execution_count": 42,
   "id": "17fbd8e8-c547-4956-bb59-1b33bec826df",
   "metadata": {},
   "outputs": [
    {
     "data": {
      "text/plain": [
       "array(['11-15', '1-5', nan, '500-1000', '500', '20-50', '20', '50-100',\n",
       "       '26-50', '10', '2-6', '200-250', '10-20', 'Na', '250', '0-9',\n",
       "       '100-249', '2', '6', '14', '9', '26', '10-19', '50-99', '20-49',\n",
       "       '249-599', '100-499', '500-999', '250-499', '100-299', '11-25',\n",
       "       '0-10', '5-50', '1-10', '51-200', '2-10', '100-152', '1000-1250',\n",
       "       1000, '1000-5000', '1500-2000', '3000-3500', '600-700',\n",
       "       '1500-1800', '4000-4800', '60000 - 65000', '38000-38300',\n",
       "       '3800-3900', '100-140', '0-15', '200-230', '240-260', '200-500',\n",
       "       '30-50', '10-50', '100-130', '1000', '5000', '40-60', '1850-1900',\n",
       "       '70-80', '650-670', '400-500', '5-20', '120-250', '750-780',\n",
       "       '20-30', '3-10', '1750-1800', '240-250', '5-10', '2000-2100',\n",
       "       '130-140', '120-140', '2300-2350', '250-500', '1000-4999',\n",
       "       '980-1000', '840-860', '110-120', '380-400', '410-430',\n",
       "       '10000-10500', '190-200', '250-270', '260-270', '3230-3250',\n",
       "       '1020-1050', '15-20', '600-610', '420-430', '1000-1100', '20-99',\n",
       "       '10-49'], dtype=object)"
      ]
     },
     "execution_count": 42,
     "metadata": {},
     "output_type": "execute_result"
    }
   ],
   "source": [
    "df['number of employees'].unique()"
   ]
  },
  {
   "cell_type": "code",
   "execution_count": 43,
   "id": "ce2cfb87-519e-4914-844e-274880b0408b",
   "metadata": {},
   "outputs": [],
   "source": [
    "def convert_to_number(x):\n",
    "    try:\n",
    "        if pd.isnull(x):\n",
    "            return np.nan  # keep NaN\n",
    "        x = str(x).strip()\n",
    "        if '-' in x:\n",
    "            parts = x.split('-')\n",
    "            if len(parts) == 2:\n",
    "                low = int(parts[0].strip())\n",
    "                high = int(parts[1].strip())\n",
    "                return (low + high) // 2  # or low or high\n",
    "        return int(x)  # if single value like '500'\n",
    "    except:\n",
    "        return np.nan  # if anything fails\n",
    "\n",
    "df['number of employees'] = df['number of employees'].apply(convert_to_number)\n"
   ]
  },
  {
   "cell_type": "code",
   "execution_count": 44,
   "id": "e6a5b700-44a2-41fc-8ba9-c8598768d487",
   "metadata": {
    "scrolled": true
   },
   "outputs": [
    {
     "data": {
      "text/plain": [
       "917.8977272727273"
      ]
     },
     "execution_count": 44,
     "metadata": {},
     "output_type": "execute_result"
    }
   ],
   "source": [
    "mean_value = df['number of employees'].mean()\n",
    "mean_value"
   ]
  },
  {
   "cell_type": "code",
   "execution_count": 45,
   "id": "9224ee81-8bcc-4361-8db5-e9937e4afc2d",
   "metadata": {},
   "outputs": [],
   "source": [
    "mode_value = df['number of employees'].mode()[0]\n",
    "df['number of employees'] = df['number of employees'].fillna(mode_value)"
   ]
  },
  {
   "cell_type": "code",
   "execution_count": 46,
   "id": "386e93e1-f6a7-49a2-993c-ec1d0a0a67f9",
   "metadata": {},
   "outputs": [
    {
     "data": {
      "text/plain": [
       "array(['Cuddalore', 'Chennai', 'coimbatore', 'Trichy,chennai', 'Trichy',\n",
       "       'chengalpattu', 'Tirunelveli', 'Salem', 'Erode', 'Tiruvannamalai',\n",
       "       'Madurai', 'Nilgiris', 'chennai', 'Karaikudi', 'Namakkal',\n",
       "       'Krishnagiri', 'Thiruvarur', 'Kanya kumari', 'Rajapalayam',\n",
       "       'Thoothukudi', 'Virudhunagr', 'Kancheepuram', 'Tuticorin',\n",
       "       'trichy', 'thindal', 'madurai', 'Sivagangai', 'Thanjavur',\n",
       "       'Pudukottai', 'Kodaikanal', 'Tirupur', 'Thiruvallur', 'Dharmapuri',\n",
       "       'Karur', 'Nagercoil', 'vellore', 'Bengaluru', 'Dindigul', 'Hosur',\n",
       "       'pondichery', 'Sivakasi', nan, 'karur', 'Auroville', 'Kanchipuram',\n",
       "       'ramanathapuram'], dtype=object)"
      ]
     },
     "execution_count": 46,
     "metadata": {},
     "output_type": "execute_result"
    }
   ],
   "source": [
    "df['location(tn)'].unique()"
   ]
  },
  {
   "cell_type": "code",
   "execution_count": 47,
   "id": "26905458-57d7-4f2f-9362-c5a8a252e216",
   "metadata": {},
   "outputs": [],
   "source": [
    "df['location(tn)'] = df['location(tn)'].replace('Chennai', 'chennai')"
   ]
  },
  {
   "cell_type": "code",
   "execution_count": 48,
   "id": "1ae42c65-76fb-43aa-97ff-afc2d607a96a",
   "metadata": {},
   "outputs": [],
   "source": [
    "df['location(tn)'] = df['location(tn)'].replace('Kancheepuram', 'Kanchipuram')\n",
    "df['location(tn)'] = df['location(tn)'].replace('Karur', 'karur')\n",
    "df['location(tn)'] = df['location(tn)'].replace('Thoothukudi', 'Tuticorin')\n",
    "df['location(tn)'] = df['location(tn)'].replace('Trichy', 'trichy')\n",
    "df['location(tn)'] = df['location(tn)'].replace('thindal', 'Dindigul')\n",
    "df['location(tn)'] = df['location(tn)'].fillna('not available')"
   ]
  },
  {
   "cell_type": "code",
   "execution_count": 49,
   "id": "3b8c56ae-b751-4654-8f5d-537128718f12",
   "metadata": {},
   "outputs": [
    {
     "data": {
      "text/plain": [
       "(array(['Cuddalore', 'chennai', 'coimbatore', 'Trichy,chennai', 'trichy',\n",
       "        'chengalpattu', 'Tirunelveli', 'Salem', 'Erode', 'Tiruvannamalai',\n",
       "        'Madurai', 'Nilgiris', 'Karaikudi', 'Namakkal', 'Krishnagiri',\n",
       "        'Thiruvarur', 'Kanya kumari', 'Rajapalayam', 'Tuticorin',\n",
       "        'Virudhunagr', 'Kanchipuram', 'Dindigul', 'madurai', 'Sivagangai',\n",
       "        'Thanjavur', 'Pudukottai', 'Kodaikanal', 'Tirupur', 'Thiruvallur',\n",
       "        'Dharmapuri', 'karur', 'Nagercoil', 'vellore', 'Bengaluru',\n",
       "        'Hosur', 'pondichery', 'Sivakasi', 'not available', 'Auroville',\n",
       "        'ramanathapuram'], dtype=object),\n",
       " 40)"
      ]
     },
     "execution_count": 49,
     "metadata": {},
     "output_type": "execute_result"
    }
   ],
   "source": [
    "df['location(tn)'].unique(),df['location(tn)'].nunique()"
   ]
  },
  {
   "cell_type": "code",
   "execution_count": 50,
   "id": "130e05c6-e898-45da-8fcf-8a6900d8af46",
   "metadata": {},
   "outputs": [
    {
     "data": {
      "text/plain": [
       "business name                      0\n",
       "categories of businesses           0\n",
       "businesses  categories type        0\n",
       "business type                      0\n",
       "size of business                   0\n",
       "year established                   0\n",
       "social media presence              0\n",
       " social media                      0\n",
       " social media status               0\n",
       "revenue range (annual)             0\n",
       "target audience                    0\n",
       "major clients & customer base      0\n",
       "phone number                     108\n",
       "email address                    259\n",
       "website                            1\n",
       "digital presence                   0\n",
       "number of employees                0\n",
       "location(tn)                       0\n",
       "address                           67\n",
       "dtype: int64"
      ]
     },
     "execution_count": 50,
     "metadata": {},
     "output_type": "execute_result"
    }
   ],
   "source": [
    "df.isnull().sum()"
   ]
  },
  {
   "cell_type": "code",
   "execution_count": 51,
   "id": "4e6aa258-f885-42d7-a899-61e586d2fcb9",
   "metadata": {},
   "outputs": [
    {
     "data": {
      "text/plain": [
       "business name                     object\n",
       "categories of businesses          object\n",
       "businesses  categories type       object\n",
       "business type                     object\n",
       "size of business                  object\n",
       "year established                   int32\n",
       "social media presence             object\n",
       " social media                     object\n",
       " social media status              object\n",
       "revenue range (annual)           float64\n",
       "target audience                   object\n",
       "major clients & customer base     object\n",
       "phone number                      object\n",
       "email address                     object\n",
       "website                           object\n",
       "digital presence                  object\n",
       "number of employees              float64\n",
       "location(tn)                      object\n",
       "address                           object\n",
       "dtype: object"
      ]
     },
     "execution_count": 51,
     "metadata": {},
     "output_type": "execute_result"
    }
   ],
   "source": [
    "#checking data types \n",
    "df.dtypes"
   ]
  },
  {
   "cell_type": "markdown",
   "id": "c571b4fb-08ff-49ef-b2f4-8dfff538d8b7",
   "metadata": {},
   "source": [
    "#### droppoing unwanted columns "
   ]
  },
  {
   "cell_type": "code",
   "execution_count": 52,
   "id": "ec55aa56-9028-4e45-822a-6f817bf8e4d1",
   "metadata": {},
   "outputs": [
    {
     "data": {
      "text/html": [
       "<div>\n",
       "<style scoped>\n",
       "    .dataframe tbody tr th:only-of-type {\n",
       "        vertical-align: middle;\n",
       "    }\n",
       "\n",
       "    .dataframe tbody tr th {\n",
       "        vertical-align: top;\n",
       "    }\n",
       "\n",
       "    .dataframe thead th {\n",
       "        text-align: right;\n",
       "    }\n",
       "</style>\n",
       "<table border=\"1\" class=\"dataframe\">\n",
       "  <thead>\n",
       "    <tr style=\"text-align: right;\">\n",
       "      <th></th>\n",
       "      <th>business name</th>\n",
       "      <th>categories of businesses</th>\n",
       "      <th>businesses  categories type</th>\n",
       "      <th>business type</th>\n",
       "      <th>size of business</th>\n",
       "      <th>year established</th>\n",
       "      <th>social media presence</th>\n",
       "      <th>social media</th>\n",
       "      <th>social media status</th>\n",
       "      <th>revenue range (annual)</th>\n",
       "      <th>target audience</th>\n",
       "      <th>major clients &amp; customer base</th>\n",
       "      <th>phone number</th>\n",
       "      <th>email address</th>\n",
       "      <th>website</th>\n",
       "      <th>digital presence</th>\n",
       "      <th>number of employees</th>\n",
       "      <th>location(tn)</th>\n",
       "      <th>address</th>\n",
       "    </tr>\n",
       "  </thead>\n",
       "  <tbody>\n",
       "    <tr>\n",
       "      <th>0</th>\n",
       "      <td>ANANDHIYA INTERNATIONAL MARKETING PVT LTD</td>\n",
       "      <td>Retail &amp; Wholesale Businesses</td>\n",
       "      <td>Food Processing</td>\n",
       "      <td>partership</td>\n",
       "      <td>large</td>\n",
       "      <td>0</td>\n",
       "      <td>yes</td>\n",
       "      <td>facebook</td>\n",
       "      <td>active</td>\n",
       "      <td>8.0</td>\n",
       "      <td>both</td>\n",
       "      <td>international</td>\n",
       "      <td>+919025245455</td>\n",
       "      <td>support@anandhiya.in</td>\n",
       "      <td>https://www.anandhiya.in/</td>\n",
       "      <td>own web</td>\n",
       "      <td>13.0</td>\n",
       "      <td>Cuddalore</td>\n",
       "      <td>NaN</td>\n",
       "    </tr>\n",
       "    <tr>\n",
       "      <th>1</th>\n",
       "      <td>RHK studio</td>\n",
       "      <td>Photography</td>\n",
       "      <td>Event Photography</td>\n",
       "      <td>sole proprietorship</td>\n",
       "      <td>small</td>\n",
       "      <td>0</td>\n",
       "      <td>yes</td>\n",
       "      <td>fb &amp; insta</td>\n",
       "      <td>active</td>\n",
       "      <td>8.0</td>\n",
       "      <td>b2c</td>\n",
       "      <td>local</td>\n",
       "      <td>+91 7010754876</td>\n",
       "      <td>rhkstudio@outlook.com</td>\n",
       "      <td>https://rhkstudio.com/</td>\n",
       "      <td>own web</td>\n",
       "      <td>3.0</td>\n",
       "      <td>Cuddalore</td>\n",
       "      <td>NaN</td>\n",
       "    </tr>\n",
       "    <tr>\n",
       "      <th>2</th>\n",
       "      <td>Enoch computers</td>\n",
       "      <td>Retail &amp; Wholesale Businesses</td>\n",
       "      <td>Electronics &amp; Mobile Stores</td>\n",
       "      <td>sole proprietorship</td>\n",
       "      <td>medium</td>\n",
       "      <td>0</td>\n",
       "      <td>yes</td>\n",
       "      <td>facebook</td>\n",
       "      <td>inactive</td>\n",
       "      <td>8.0</td>\n",
       "      <td>both</td>\n",
       "      <td>local</td>\n",
       "      <td>9367610951</td>\n",
       "      <td>NaN</td>\n",
       "      <td>https://magicpin.in/Cuddalore/Cuddalore/Electr...</td>\n",
       "      <td>third party</td>\n",
       "      <td>14.0</td>\n",
       "      <td>Cuddalore</td>\n",
       "      <td>NaN</td>\n",
       "    </tr>\n",
       "    <tr>\n",
       "      <th>3</th>\n",
       "      <td>Beyonfinity business solutions</td>\n",
       "      <td>Technology &amp; IT Services</td>\n",
       "      <td>Software Development Companies</td>\n",
       "      <td>sole proprietorship</td>\n",
       "      <td>medium</td>\n",
       "      <td>0</td>\n",
       "      <td>yes</td>\n",
       "      <td>facebook</td>\n",
       "      <td>active</td>\n",
       "      <td>8.0</td>\n",
       "      <td>b2b</td>\n",
       "      <td>international</td>\n",
       "      <td>770-546-90190</td>\n",
       "      <td>info.beyonfinity@gmail.com</td>\n",
       "      <td>https://www.sulekha.com/beyonfinity-business-s...</td>\n",
       "      <td>third party</td>\n",
       "      <td>14.0</td>\n",
       "      <td>Cuddalore</td>\n",
       "      <td>NaN</td>\n",
       "    </tr>\n",
       "    <tr>\n",
       "      <th>4</th>\n",
       "      <td>the paver company</td>\n",
       "      <td>Construction &amp; Real Estate</td>\n",
       "      <td>Interior Designers &amp; Architects</td>\n",
       "      <td>sole proprietorship</td>\n",
       "      <td>medium</td>\n",
       "      <td>0</td>\n",
       "      <td>no</td>\n",
       "      <td>not available</td>\n",
       "      <td>inactive</td>\n",
       "      <td>8.0</td>\n",
       "      <td>b2b</td>\n",
       "      <td>local</td>\n",
       "      <td>+9162228844</td>\n",
       "      <td>NaN</td>\n",
       "      <td>https://www.yelu.in/company/964854/the-paver-c...</td>\n",
       "      <td>third party</td>\n",
       "      <td>750.0</td>\n",
       "      <td>Cuddalore</td>\n",
       "      <td>NaN</td>\n",
       "    </tr>\n",
       "  </tbody>\n",
       "</table>\n",
       "</div>"
      ],
      "text/plain": [
       "                               business name       categories of businesses  \\\n",
       "0  ANANDHIYA INTERNATIONAL MARKETING PVT LTD  Retail & Wholesale Businesses   \n",
       "1                                 RHK studio                   Photography    \n",
       "2                            Enoch computers  Retail & Wholesale Businesses   \n",
       "3             Beyonfinity business solutions       Technology & IT Services   \n",
       "4                          the paver company     Construction & Real Estate   \n",
       "\n",
       "       businesses  categories type        business type size of business  \\\n",
       "0                  Food Processing           partership            large   \n",
       "1                Event Photography  sole proprietorship            small   \n",
       "2      Electronics & Mobile Stores  sole proprietorship           medium   \n",
       "3   Software Development Companies  sole proprietorship           medium   \n",
       "4  Interior Designers & Architects  sole proprietorship           medium   \n",
       "\n",
       "   year established social media presence  social media   social media status  \\\n",
       "0                 0                   yes       facebook               active   \n",
       "1                 0                   yes     fb & insta               active   \n",
       "2                 0                   yes       facebook             inactive   \n",
       "3                 0                   yes       facebook               active   \n",
       "4                 0                    no  not available             inactive   \n",
       "\n",
       "   revenue range (annual) target audience major clients & customer base  \\\n",
       "0                     8.0            both                 international   \n",
       "1                     8.0             b2c                         local   \n",
       "2                     8.0            both                         local   \n",
       "3                     8.0             b2b                 international   \n",
       "4                     8.0             b2b                         local   \n",
       "\n",
       "     phone number               email address  \\\n",
       "0   +919025245455        support@anandhiya.in   \n",
       "1  +91 7010754876       rhkstudio@outlook.com   \n",
       "2      9367610951                         NaN   \n",
       "3   770-546-90190  info.beyonfinity@gmail.com   \n",
       "4     +9162228844                         NaN   \n",
       "\n",
       "                                            website  digital presence  \\\n",
       "0                          https://www.anandhiya.in/          own web   \n",
       "1                             https://rhkstudio.com/          own web   \n",
       "2  https://magicpin.in/Cuddalore/Cuddalore/Electr...      third party   \n",
       "3  https://www.sulekha.com/beyonfinity-business-s...      third party   \n",
       "4  https://www.yelu.in/company/964854/the-paver-c...      third party   \n",
       "\n",
       "   number of employees location(tn) address  \n",
       "0                 13.0    Cuddalore     NaN  \n",
       "1                  3.0    Cuddalore     NaN  \n",
       "2                 14.0    Cuddalore     NaN  \n",
       "3                 14.0    Cuddalore     NaN  \n",
       "4                750.0    Cuddalore     NaN  "
      ]
     },
     "execution_count": 52,
     "metadata": {},
     "output_type": "execute_result"
    }
   ],
   "source": [
    "df.head(5)"
   ]
  },
  {
   "cell_type": "code",
   "execution_count": 53,
   "id": "ecec8761-2b61-4296-99f1-102777fa5f87",
   "metadata": {},
   "outputs": [],
   "source": [
    "df.drop(columns=['address','phone number','email address'],inplace=True)"
   ]
  },
  {
   "cell_type": "code",
   "execution_count": 54,
   "id": "455bf5bf-feaa-463f-9977-c89044289f80",
   "metadata": {},
   "outputs": [],
   "source": [
    "df.drop(columns=[' social media '],inplace=True)"
   ]
  },
  {
   "cell_type": "code",
   "execution_count": 55,
   "id": "f90c6692-203b-44e2-bb62-69e934fa6acc",
   "metadata": {},
   "outputs": [],
   "source": [
    "df.drop(columns=['website '],inplace=True)"
   ]
  },
  {
   "cell_type": "code",
   "execution_count": 56,
   "id": "a9d24283-a89b-4de1-a711-c2fc80881e5f",
   "metadata": {},
   "outputs": [
    {
     "data": {
      "text/html": [
       "<div>\n",
       "<style scoped>\n",
       "    .dataframe tbody tr th:only-of-type {\n",
       "        vertical-align: middle;\n",
       "    }\n",
       "\n",
       "    .dataframe tbody tr th {\n",
       "        vertical-align: top;\n",
       "    }\n",
       "\n",
       "    .dataframe thead th {\n",
       "        text-align: right;\n",
       "    }\n",
       "</style>\n",
       "<table border=\"1\" class=\"dataframe\">\n",
       "  <thead>\n",
       "    <tr style=\"text-align: right;\">\n",
       "      <th></th>\n",
       "      <th>business name</th>\n",
       "      <th>categories of businesses</th>\n",
       "      <th>businesses  categories type</th>\n",
       "      <th>business type</th>\n",
       "      <th>size of business</th>\n",
       "      <th>year established</th>\n",
       "      <th>social media presence</th>\n",
       "      <th>social media status</th>\n",
       "      <th>revenue range (annual)</th>\n",
       "      <th>target audience</th>\n",
       "      <th>major clients &amp; customer base</th>\n",
       "      <th>digital presence</th>\n",
       "      <th>number of employees</th>\n",
       "      <th>location(tn)</th>\n",
       "    </tr>\n",
       "  </thead>\n",
       "  <tbody>\n",
       "    <tr>\n",
       "      <th>0</th>\n",
       "      <td>ANANDHIYA INTERNATIONAL MARKETING PVT LTD</td>\n",
       "      <td>Retail &amp; Wholesale Businesses</td>\n",
       "      <td>Food Processing</td>\n",
       "      <td>partership</td>\n",
       "      <td>large</td>\n",
       "      <td>0</td>\n",
       "      <td>yes</td>\n",
       "      <td>active</td>\n",
       "      <td>8.0</td>\n",
       "      <td>both</td>\n",
       "      <td>international</td>\n",
       "      <td>own web</td>\n",
       "      <td>13.0</td>\n",
       "      <td>Cuddalore</td>\n",
       "    </tr>\n",
       "    <tr>\n",
       "      <th>1</th>\n",
       "      <td>RHK studio</td>\n",
       "      <td>Photography</td>\n",
       "      <td>Event Photography</td>\n",
       "      <td>sole proprietorship</td>\n",
       "      <td>small</td>\n",
       "      <td>0</td>\n",
       "      <td>yes</td>\n",
       "      <td>active</td>\n",
       "      <td>8.0</td>\n",
       "      <td>b2c</td>\n",
       "      <td>local</td>\n",
       "      <td>own web</td>\n",
       "      <td>3.0</td>\n",
       "      <td>Cuddalore</td>\n",
       "    </tr>\n",
       "    <tr>\n",
       "      <th>2</th>\n",
       "      <td>Enoch computers</td>\n",
       "      <td>Retail &amp; Wholesale Businesses</td>\n",
       "      <td>Electronics &amp; Mobile Stores</td>\n",
       "      <td>sole proprietorship</td>\n",
       "      <td>medium</td>\n",
       "      <td>0</td>\n",
       "      <td>yes</td>\n",
       "      <td>inactive</td>\n",
       "      <td>8.0</td>\n",
       "      <td>both</td>\n",
       "      <td>local</td>\n",
       "      <td>third party</td>\n",
       "      <td>14.0</td>\n",
       "      <td>Cuddalore</td>\n",
       "    </tr>\n",
       "    <tr>\n",
       "      <th>3</th>\n",
       "      <td>Beyonfinity business solutions</td>\n",
       "      <td>Technology &amp; IT Services</td>\n",
       "      <td>Software Development Companies</td>\n",
       "      <td>sole proprietorship</td>\n",
       "      <td>medium</td>\n",
       "      <td>0</td>\n",
       "      <td>yes</td>\n",
       "      <td>active</td>\n",
       "      <td>8.0</td>\n",
       "      <td>b2b</td>\n",
       "      <td>international</td>\n",
       "      <td>third party</td>\n",
       "      <td>14.0</td>\n",
       "      <td>Cuddalore</td>\n",
       "    </tr>\n",
       "    <tr>\n",
       "      <th>4</th>\n",
       "      <td>the paver company</td>\n",
       "      <td>Construction &amp; Real Estate</td>\n",
       "      <td>Interior Designers &amp; Architects</td>\n",
       "      <td>sole proprietorship</td>\n",
       "      <td>medium</td>\n",
       "      <td>0</td>\n",
       "      <td>no</td>\n",
       "      <td>inactive</td>\n",
       "      <td>8.0</td>\n",
       "      <td>b2b</td>\n",
       "      <td>local</td>\n",
       "      <td>third party</td>\n",
       "      <td>750.0</td>\n",
       "      <td>Cuddalore</td>\n",
       "    </tr>\n",
       "  </tbody>\n",
       "</table>\n",
       "</div>"
      ],
      "text/plain": [
       "                               business name       categories of businesses  \\\n",
       "0  ANANDHIYA INTERNATIONAL MARKETING PVT LTD  Retail & Wholesale Businesses   \n",
       "1                                 RHK studio                   Photography    \n",
       "2                            Enoch computers  Retail & Wholesale Businesses   \n",
       "3             Beyonfinity business solutions       Technology & IT Services   \n",
       "4                          the paver company     Construction & Real Estate   \n",
       "\n",
       "       businesses  categories type        business type size of business  \\\n",
       "0                  Food Processing           partership            large   \n",
       "1                Event Photography  sole proprietorship            small   \n",
       "2      Electronics & Mobile Stores  sole proprietorship           medium   \n",
       "3   Software Development Companies  sole proprietorship           medium   \n",
       "4  Interior Designers & Architects  sole proprietorship           medium   \n",
       "\n",
       "   year established social media presence  social media status  \\\n",
       "0                 0                   yes               active   \n",
       "1                 0                   yes               active   \n",
       "2                 0                   yes             inactive   \n",
       "3                 0                   yes               active   \n",
       "4                 0                    no             inactive   \n",
       "\n",
       "   revenue range (annual) target audience major clients & customer base  \\\n",
       "0                     8.0            both                 international   \n",
       "1                     8.0             b2c                         local   \n",
       "2                     8.0            both                         local   \n",
       "3                     8.0             b2b                 international   \n",
       "4                     8.0             b2b                         local   \n",
       "\n",
       "  digital presence  number of employees location(tn)  \n",
       "0          own web                 13.0    Cuddalore  \n",
       "1          own web                  3.0    Cuddalore  \n",
       "2      third party                 14.0    Cuddalore  \n",
       "3      third party                 14.0    Cuddalore  \n",
       "4      third party                750.0    Cuddalore  "
      ]
     },
     "execution_count": 56,
     "metadata": {},
     "output_type": "execute_result"
    }
   ],
   "source": [
    "df.head()"
   ]
  },
  {
   "cell_type": "code",
   "execution_count": 57,
   "id": "1c3e6a40-6e69-4708-ac8e-519a0f0fce1e",
   "metadata": {},
   "outputs": [],
   "source": [
    "df.to_excel(\"business_data_cleaned.xlsx\", index=False)"
   ]
  },
  {
   "cell_type": "code",
   "execution_count": 58,
   "id": "3759bcf7-f368-460d-b233-624e8a9b1827",
   "metadata": {},
   "outputs": [
    {
     "data": {
      "text/html": [
       "<div>\n",
       "<style scoped>\n",
       "    .dataframe tbody tr th:only-of-type {\n",
       "        vertical-align: middle;\n",
       "    }\n",
       "\n",
       "    .dataframe tbody tr th {\n",
       "        vertical-align: top;\n",
       "    }\n",
       "\n",
       "    .dataframe thead th {\n",
       "        text-align: right;\n",
       "    }\n",
       "</style>\n",
       "<table border=\"1\" class=\"dataframe\">\n",
       "  <thead>\n",
       "    <tr style=\"text-align: right;\">\n",
       "      <th></th>\n",
       "      <th>business name</th>\n",
       "      <th>categories of businesses</th>\n",
       "      <th>businesses  categories type</th>\n",
       "      <th>business type</th>\n",
       "      <th>size of business</th>\n",
       "      <th>year established</th>\n",
       "      <th>social media presence</th>\n",
       "      <th>social media status</th>\n",
       "      <th>revenue range (annual)</th>\n",
       "      <th>target audience</th>\n",
       "      <th>major clients &amp; customer base</th>\n",
       "      <th>digital presence</th>\n",
       "      <th>number of employees</th>\n",
       "      <th>location(tn)</th>\n",
       "    </tr>\n",
       "  </thead>\n",
       "  <tbody>\n",
       "    <tr>\n",
       "      <th>0</th>\n",
       "      <td>ANANDHIYA INTERNATIONAL MARKETING PVT LTD</td>\n",
       "      <td>Retail &amp; Wholesale Businesses</td>\n",
       "      <td>Food Processing</td>\n",
       "      <td>partership</td>\n",
       "      <td>large</td>\n",
       "      <td>0</td>\n",
       "      <td>yes</td>\n",
       "      <td>active</td>\n",
       "      <td>8.0</td>\n",
       "      <td>both</td>\n",
       "      <td>international</td>\n",
       "      <td>own web</td>\n",
       "      <td>13.0</td>\n",
       "      <td>Cuddalore</td>\n",
       "    </tr>\n",
       "    <tr>\n",
       "      <th>1</th>\n",
       "      <td>RHK studio</td>\n",
       "      <td>Photography</td>\n",
       "      <td>Event Photography</td>\n",
       "      <td>sole proprietorship</td>\n",
       "      <td>small</td>\n",
       "      <td>0</td>\n",
       "      <td>yes</td>\n",
       "      <td>active</td>\n",
       "      <td>8.0</td>\n",
       "      <td>b2c</td>\n",
       "      <td>local</td>\n",
       "      <td>own web</td>\n",
       "      <td>3.0</td>\n",
       "      <td>Cuddalore</td>\n",
       "    </tr>\n",
       "    <tr>\n",
       "      <th>2</th>\n",
       "      <td>Enoch computers</td>\n",
       "      <td>Retail &amp; Wholesale Businesses</td>\n",
       "      <td>Electronics &amp; Mobile Stores</td>\n",
       "      <td>sole proprietorship</td>\n",
       "      <td>medium</td>\n",
       "      <td>0</td>\n",
       "      <td>yes</td>\n",
       "      <td>inactive</td>\n",
       "      <td>8.0</td>\n",
       "      <td>both</td>\n",
       "      <td>local</td>\n",
       "      <td>third party</td>\n",
       "      <td>14.0</td>\n",
       "      <td>Cuddalore</td>\n",
       "    </tr>\n",
       "    <tr>\n",
       "      <th>3</th>\n",
       "      <td>Beyonfinity business solutions</td>\n",
       "      <td>Technology &amp; IT Services</td>\n",
       "      <td>Software Development Companies</td>\n",
       "      <td>sole proprietorship</td>\n",
       "      <td>medium</td>\n",
       "      <td>0</td>\n",
       "      <td>yes</td>\n",
       "      <td>active</td>\n",
       "      <td>8.0</td>\n",
       "      <td>b2b</td>\n",
       "      <td>international</td>\n",
       "      <td>third party</td>\n",
       "      <td>14.0</td>\n",
       "      <td>Cuddalore</td>\n",
       "    </tr>\n",
       "    <tr>\n",
       "      <th>4</th>\n",
       "      <td>the paver company</td>\n",
       "      <td>Construction &amp; Real Estate</td>\n",
       "      <td>Interior Designers &amp; Architects</td>\n",
       "      <td>sole proprietorship</td>\n",
       "      <td>medium</td>\n",
       "      <td>0</td>\n",
       "      <td>no</td>\n",
       "      <td>inactive</td>\n",
       "      <td>8.0</td>\n",
       "      <td>b2b</td>\n",
       "      <td>local</td>\n",
       "      <td>third party</td>\n",
       "      <td>750.0</td>\n",
       "      <td>Cuddalore</td>\n",
       "    </tr>\n",
       "  </tbody>\n",
       "</table>\n",
       "</div>"
      ],
      "text/plain": [
       "                               business name       categories of businesses  \\\n",
       "0  ANANDHIYA INTERNATIONAL MARKETING PVT LTD  Retail & Wholesale Businesses   \n",
       "1                                 RHK studio                   Photography    \n",
       "2                            Enoch computers  Retail & Wholesale Businesses   \n",
       "3             Beyonfinity business solutions       Technology & IT Services   \n",
       "4                          the paver company     Construction & Real Estate   \n",
       "\n",
       "       businesses  categories type        business type size of business  \\\n",
       "0                  Food Processing           partership            large   \n",
       "1                Event Photography  sole proprietorship            small   \n",
       "2      Electronics & Mobile Stores  sole proprietorship           medium   \n",
       "3   Software Development Companies  sole proprietorship           medium   \n",
       "4  Interior Designers & Architects  sole proprietorship           medium   \n",
       "\n",
       "   year established social media presence  social media status  \\\n",
       "0                 0                   yes               active   \n",
       "1                 0                   yes               active   \n",
       "2                 0                   yes             inactive   \n",
       "3                 0                   yes               active   \n",
       "4                 0                    no             inactive   \n",
       "\n",
       "   revenue range (annual) target audience major clients & customer base  \\\n",
       "0                     8.0            both                 international   \n",
       "1                     8.0             b2c                         local   \n",
       "2                     8.0            both                         local   \n",
       "3                     8.0             b2b                 international   \n",
       "4                     8.0             b2b                         local   \n",
       "\n",
       "  digital presence  number of employees location(tn)  \n",
       "0          own web                 13.0    Cuddalore  \n",
       "1          own web                  3.0    Cuddalore  \n",
       "2      third party                 14.0    Cuddalore  \n",
       "3      third party                 14.0    Cuddalore  \n",
       "4      third party                750.0    Cuddalore  "
      ]
     },
     "execution_count": 58,
     "metadata": {},
     "output_type": "execute_result"
    }
   ],
   "source": [
    "df.head()"
   ]
  },
  {
   "cell_type": "code",
   "execution_count": 60,
   "id": "da00e08e-d426-46e9-9c99-57398b832ef2",
   "metadata": {},
   "outputs": [
    {
     "data": {
      "image/png": "[encoded data removed]",
      "text/plain": [
       "<Figure size 600x600 with 1 Axes>"
      ]
     },
     "metadata": {},
     "output_type": "display_data"
    }
   ],
   "source": [
    "social_counts = df['social media presence'].value_counts()\n",
    "\n",
    "plt.figure(figsize=(6, 6))\n",
    "plt.pie(social_counts, labels=social_counts.index, autopct='%1.1f%%', startangle=140)\n",
    "plt.title('Social Media Presence')\n",
    "plt.axis('equal')\n",
    "plt.show()\n"
   ]
  },
  {
   "cell_type": "code",
   "execution_count": 62,
   "id": "0e3f91c3-5311-4c2c-aa4b-a6e19b24fb66",
   "metadata": {},
   "outputs": [
    {
     "data": {
      "image/png": "[encoded data removed]",
      "text/plain": [
       "<Figure size 1200x600 with 1 Axes>"
      ]
     },
     "metadata": {},
     "output_type": "display_data"
    }
   ],
   "source": [
    "plt.figure(figsize=(12, 6))\n",
    "sns.countplot(data=df, x='location(tn)', order=df['location(tn)'].value_counts().index)\n",
    "plt.xticks(rotation=45)\n",
    "plt.title('Businesses by Location (Tamil Nadu)')\n",
    "plt.tight_layout()\n",
    "plt.show()\n"
   ]
  },
  {
   "cell_type": "code",
   "execution_count": 86,
   "id": "747562e5-d4e2-4088-bdd2-086bf1f0cd24",
   "metadata": {},
   "outputs": [
    {
     "data": {
      "image/png": "[encoded data removed]",
      "text/plain": [
       "<Figure size 1000x600 with 1 Axes>"
      ]
     },
     "metadata": {},
     "output_type": "display_data"
    }
   ],
   "source": [
    "category_counts = df.groupby('categories of businesses').size().sort_values(ascending=False).head(10)\n",
    "\n",
    "plt.figure(figsize=(10,6))\n",
    "sns.barplot(x=category_counts.index, y=category_counts.values)\n",
    "plt.title('Top 10 Business Categories')\n",
    "plt.ylabel('Count')\n",
    "plt.xticks(rotation=45)\n",
    "plt.tight_layout()\n",
    "plt.show()\n"
   ]
  },
  {
   "cell_type": "markdown",
   "id": "a892b9cb-cf1a-4b4d-89fd-72645fd53623",
   "metadata": {},
   "source": [
    "#### Label encoding the cat column "
   ]
  },
  {
   "cell_type": "code",
   "execution_count": 85,
   "id": "236c6136-ece4-47af-93d8-0459fc0292b6",
   "metadata": {},
   "outputs": [],
   "source": [
    "categorical_columns = df.select_dtypes(include=['object']).columns.tolist()"
   ]
  },
  {
   "cell_type": "code",
   "execution_count": 78,
   "id": "c5e203ae-2704-4445-b506-f830668fc141",
   "metadata": {},
   "outputs": [],
   "source": [
    "from sklearn.preprocessing import LabelEncoder\n",
    "LE = LabelEncoder()"
   ]
  },
  {
   "cell_type": "code",
   "execution_count": 79,
   "id": "6ff997bc-539b-4410-baa0-d29ec522c280",
   "metadata": {},
   "outputs": [],
   "source": [
    "for col in categorical_columns:\n",
    "     df[col] = LE.fit_transform(df[col])"
   ]
  },
  {
   "cell_type": "code",
   "execution_count": 80,
   "id": "16b11aac-632e-479b-badc-bc69e2a6c8c2",
   "metadata": {},
   "outputs": [
    {
     "data": {
      "text/html": [
       "<div>\n",
       "<style scoped>\n",
       "    .dataframe tbody tr th:only-of-type {\n",
       "        vertical-align: middle;\n",
       "    }\n",
       "\n",
       "    .dataframe tbody tr th {\n",
       "        vertical-align: top;\n",
       "    }\n",
       "\n",
       "    .dataframe thead th {\n",
       "        text-align: right;\n",
       "    }\n",
       "</style>\n",
       "<table border=\"1\" class=\"dataframe\">\n",
       "  <thead>\n",
       "    <tr style=\"text-align: right;\">\n",
       "      <th></th>\n",
       "      <th>business name</th>\n",
       "      <th>categories of businesses</th>\n",
       "      <th>businesses  categories type</th>\n",
       "      <th>business type</th>\n",
       "      <th>size of business</th>\n",
       "      <th>year established</th>\n",
       "      <th>social media presence</th>\n",
       "      <th>social media status</th>\n",
       "      <th>revenue range (annual)</th>\n",
       "      <th>target audience</th>\n",
       "      <th>major clients &amp; customer base</th>\n",
       "      <th>digital presence</th>\n",
       "      <th>number of employees</th>\n",
       "      <th>location(tn)</th>\n",
       "    </tr>\n",
       "  </thead>\n",
       "  <tbody>\n",
       "    <tr>\n",
       "      <th>0</th>\n",
       "      <td>32</td>\n",
       "      <td>16</td>\n",
       "      <td>57</td>\n",
       "      <td>9</td>\n",
       "      <td>0</td>\n",
       "      <td>0</td>\n",
       "      <td>1</td>\n",
       "      <td>0</td>\n",
       "      <td>8.00</td>\n",
       "      <td>2</td>\n",
       "      <td>1</td>\n",
       "      <td>1</td>\n",
       "      <td>13.00</td>\n",
       "      <td>2</td>\n",
       "    </tr>\n",
       "    <tr>\n",
       "      <th>1</th>\n",
       "      <td>474</td>\n",
       "      <td>15</td>\n",
       "      <td>47</td>\n",
       "      <td>10</td>\n",
       "      <td>2</td>\n",
       "      <td>0</td>\n",
       "      <td>1</td>\n",
       "      <td>0</td>\n",
       "      <td>8.00</td>\n",
       "      <td>1</td>\n",
       "      <td>2</td>\n",
       "      <td>1</td>\n",
       "      <td>3.00</td>\n",
       "      <td>2</td>\n",
       "    </tr>\n",
       "    <tr>\n",
       "      <th>2</th>\n",
       "      <td>232</td>\n",
       "      <td>16</td>\n",
       "      <td>40</td>\n",
       "      <td>10</td>\n",
       "      <td>1</td>\n",
       "      <td>0</td>\n",
       "      <td>1</td>\n",
       "      <td>1</td>\n",
       "      <td>8.00</td>\n",
       "      <td>2</td>\n",
       "      <td>2</td>\n",
       "      <td>2</td>\n",
       "      <td>14.00</td>\n",
       "      <td>2</td>\n",
       "    </tr>\n",
       "    <tr>\n",
       "      <th>3</th>\n",
       "      <td>126</td>\n",
       "      <td>18</td>\n",
       "      <td>202</td>\n",
       "      <td>10</td>\n",
       "      <td>1</td>\n",
       "      <td>0</td>\n",
       "      <td>1</td>\n",
       "      <td>0</td>\n",
       "      <td>8.00</td>\n",
       "      <td>0</td>\n",
       "      <td>1</td>\n",
       "      <td>2</td>\n",
       "      <td>14.00</td>\n",
       "      <td>2</td>\n",
       "    </tr>\n",
       "    <tr>\n",
       "      <th>4</th>\n",
       "      <td>684</td>\n",
       "      <td>3</td>\n",
       "      <td>81</td>\n",
       "      <td>10</td>\n",
       "      <td>1</td>\n",
       "      <td>0</td>\n",
       "      <td>0</td>\n",
       "      <td>1</td>\n",
       "      <td>8.00</td>\n",
       "      <td>0</td>\n",
       "      <td>2</td>\n",
       "      <td>2</td>\n",
       "      <td>750.00</td>\n",
       "      <td>2</td>\n",
       "    </tr>\n",
       "  </tbody>\n",
       "</table>\n",
       "</div>"
      ],
      "text/plain": [
       "   business name  categories of businesses  businesses  categories type  \\\n",
       "0             32                        16                           57   \n",
       "1            474                        15                           47   \n",
       "2            232                        16                           40   \n",
       "3            126                        18                          202   \n",
       "4            684                         3                           81   \n",
       "\n",
       "   business type  size of business  year established  social media presence  \\\n",
       "0              9                 0                 0                      1   \n",
       "1             10                 2                 0                      1   \n",
       "2             10                 1                 0                      1   \n",
       "3             10                 1                 0                      1   \n",
       "4             10                 1                 0                      0   \n",
       "\n",
       "    social media status  revenue range (annual)  target audience  \\\n",
       "0                     0                    8.00                2   \n",
       "1                     0                    8.00                1   \n",
       "2                     1                    8.00                2   \n",
       "3                     0                    8.00                0   \n",
       "4                     1                    8.00                0   \n",
       "\n",
       "   major clients & customer base  digital presence  number of employees  \\\n",
       "0                              1                 1                13.00   \n",
       "1                              2                 1                 3.00   \n",
       "2                              2                 2                14.00   \n",
       "3                              1                 2                14.00   \n",
       "4                              2                 2               750.00   \n",
       "\n",
       "   location(tn)  \n",
       "0             2  \n",
       "1             2  \n",
       "2             2  \n",
       "3             2  \n",
       "4             2  "
      ]
     },
     "execution_count": 80,
     "metadata": {},
     "output_type": "execute_result"
    }
   ],
   "source": [
    "df.head()"
   ]
  },
  {
   "cell_type": "markdown",
   "id": "d64cccbe-7239-44db-8d9d-50e260c922ec",
   "metadata": {},
   "source": [
    "#### statistical analysis"
   ]
  },
  {
   "cell_type": "code",
   "execution_count": 81,
   "id": "861ef51f-3b68-406b-b47e-ff6dd0622e39",
   "metadata": {},
   "outputs": [
    {
     "data": {
      "text/html": [
       "<div>\n",
       "<style scoped>\n",
       "    .dataframe tbody tr th:only-of-type {\n",
       "        vertical-align: middle;\n",
       "    }\n",
       "\n",
       "    .dataframe tbody tr th {\n",
       "        vertical-align: top;\n",
       "    }\n",
       "\n",
       "    .dataframe thead th {\n",
       "        text-align: right;\n",
       "    }\n",
       "</style>\n",
       "<table border=\"1\" class=\"dataframe\">\n",
       "  <thead>\n",
       "    <tr style=\"text-align: right;\">\n",
       "      <th></th>\n",
       "      <th>business name</th>\n",
       "      <th>categories of businesses</th>\n",
       "      <th>businesses  categories type</th>\n",
       "      <th>business type</th>\n",
       "      <th>size of business</th>\n",
       "      <th>year established</th>\n",
       "      <th>social media presence</th>\n",
       "      <th>social media status</th>\n",
       "      <th>revenue range (annual)</th>\n",
       "      <th>target audience</th>\n",
       "      <th>major clients &amp; customer base</th>\n",
       "      <th>digital presence</th>\n",
       "      <th>number of employees</th>\n",
       "      <th>location(tn)</th>\n",
       "    </tr>\n",
       "  </thead>\n",
       "  <tbody>\n",
       "    <tr>\n",
       "      <th>count</th>\n",
       "      <td>700.00</td>\n",
       "      <td>700.00</td>\n",
       "      <td>700.00</td>\n",
       "      <td>700.00</td>\n",
       "      <td>700.00</td>\n",
       "      <td>700.00</td>\n",
       "      <td>700.00</td>\n",
       "      <td>700.00</td>\n",
       "      <td>700.00</td>\n",
       "      <td>700.00</td>\n",
       "      <td>700.00</td>\n",
       "      <td>700.00</td>\n",
       "      <td>700.00</td>\n",
       "      <td>700.00</td>\n",
       "    </tr>\n",
       "    <tr>\n",
       "      <th>mean</th>\n",
       "      <td>346.41</td>\n",
       "      <td>12.36</td>\n",
       "      <td>102.18</td>\n",
       "      <td>7.09</td>\n",
       "      <td>1.09</td>\n",
       "      <td>22.54</td>\n",
       "      <td>0.61</td>\n",
       "      <td>0.47</td>\n",
       "      <td>142.53</td>\n",
       "      <td>1.09</td>\n",
       "      <td>1.63</td>\n",
       "      <td>1.40</td>\n",
       "      <td>354.90</td>\n",
       "      <td>25.27</td>\n",
       "    </tr>\n",
       "    <tr>\n",
       "      <th>std</th>\n",
       "      <td>199.10</td>\n",
       "      <td>5.78</td>\n",
       "      <td>81.58</td>\n",
       "      <td>2.38</td>\n",
       "      <td>0.61</td>\n",
       "      <td>209.80</td>\n",
       "      <td>0.49</td>\n",
       "      <td>0.50</td>\n",
       "      <td>1361.35</td>\n",
       "      <td>0.91</td>\n",
       "      <td>0.58</td>\n",
       "      <td>0.49</td>\n",
       "      <td>2865.16</td>\n",
       "      <td>10.46</td>\n",
       "    </tr>\n",
       "    <tr>\n",
       "      <th>min</th>\n",
       "      <td>0.00</td>\n",
       "      <td>0.00</td>\n",
       "      <td>0.00</td>\n",
       "      <td>0.00</td>\n",
       "      <td>0.00</td>\n",
       "      <td>0.00</td>\n",
       "      <td>0.00</td>\n",
       "      <td>0.00</td>\n",
       "      <td>2.00</td>\n",
       "      <td>0.00</td>\n",
       "      <td>0.00</td>\n",
       "      <td>0.00</td>\n",
       "      <td>2.00</td>\n",
       "      <td>0.00</td>\n",
       "    </tr>\n",
       "    <tr>\n",
       "      <th>25%</th>\n",
       "      <td>173.75</td>\n",
       "      <td>10.00</td>\n",
       "      <td>38.00</td>\n",
       "      <td>5.00</td>\n",
       "      <td>1.00</td>\n",
       "      <td>0.00</td>\n",
       "      <td>0.00</td>\n",
       "      <td>0.00</td>\n",
       "      <td>8.00</td>\n",
       "      <td>0.00</td>\n",
       "      <td>1.00</td>\n",
       "      <td>1.00</td>\n",
       "      <td>14.00</td>\n",
       "      <td>24.00</td>\n",
       "    </tr>\n",
       "    <tr>\n",
       "      <th>50%</th>\n",
       "      <td>347.50</td>\n",
       "      <td>14.00</td>\n",
       "      <td>70.50</td>\n",
       "      <td>7.00</td>\n",
       "      <td>1.00</td>\n",
       "      <td>0.00</td>\n",
       "      <td>1.00</td>\n",
       "      <td>0.00</td>\n",
       "      <td>8.00</td>\n",
       "      <td>1.00</td>\n",
       "      <td>2.00</td>\n",
       "      <td>1.00</td>\n",
       "      <td>14.00</td>\n",
       "      <td>31.00</td>\n",
       "    </tr>\n",
       "    <tr>\n",
       "      <th>75%</th>\n",
       "      <td>521.25</td>\n",
       "      <td>16.00</td>\n",
       "      <td>181.00</td>\n",
       "      <td>10.00</td>\n",
       "      <td>1.00</td>\n",
       "      <td>0.00</td>\n",
       "      <td>1.00</td>\n",
       "      <td>1.00</td>\n",
       "      <td>8.00</td>\n",
       "      <td>2.00</td>\n",
       "      <td>2.00</td>\n",
       "      <td>2.00</td>\n",
       "      <td>20.00</td>\n",
       "      <td>31.00</td>\n",
       "    </tr>\n",
       "    <tr>\n",
       "      <th>max</th>\n",
       "      <td>688.00</td>\n",
       "      <td>24.00</td>\n",
       "      <td>257.00</td>\n",
       "      <td>10.00</td>\n",
       "      <td>2.00</td>\n",
       "      <td>1994.00</td>\n",
       "      <td>1.00</td>\n",
       "      <td>1.00</td>\n",
       "      <td>20000.00</td>\n",
       "      <td>2.00</td>\n",
       "      <td>2.00</td>\n",
       "      <td>2.00</td>\n",
       "      <td>62500.00</td>\n",
       "      <td>39.00</td>\n",
       "    </tr>\n",
       "  </tbody>\n",
       "</table>\n",
       "</div>"
      ],
      "text/plain": [
       "       business name  categories of businesses  businesses  categories type  \\\n",
       "count         700.00                    700.00                       700.00   \n",
       "mean          346.41                     12.36                       102.18   \n",
       "std           199.10                      5.78                        81.58   \n",
       "min             0.00                      0.00                         0.00   \n",
       "25%           173.75                     10.00                        38.00   \n",
       "50%           347.50                     14.00                        70.50   \n",
       "75%           521.25                     16.00                       181.00   \n",
       "max           688.00                     24.00                       257.00   \n",
       "\n",
       "       business type  size of business  year established  \\\n",
       "count         700.00            700.00            700.00   \n",
       "mean            7.09              1.09             22.54   \n",
       "std             2.38              0.61            209.80   \n",
       "min             0.00              0.00              0.00   \n",
       "25%             5.00              1.00              0.00   \n",
       "50%             7.00              1.00              0.00   \n",
       "75%            10.00              1.00              0.00   \n",
       "max            10.00              2.00           1994.00   \n",
       "\n",
       "       social media presence   social media status  revenue range (annual)  \\\n",
       "count                 700.00                700.00                  700.00   \n",
       "mean                    0.61                  0.47                  142.53   \n",
       "std                     0.49                  0.50                 1361.35   \n",
       "min                     0.00                  0.00                    2.00   \n",
       "25%                     0.00                  0.00                    8.00   \n",
       "50%                     1.00                  0.00                    8.00   \n",
       "75%                     1.00                  1.00                    8.00   \n",
       "max                     1.00                  1.00                20000.00   \n",
       "\n",
       "       target audience  major clients & customer base  digital presence  \\\n",
       "count           700.00                         700.00            700.00   \n",
       "mean              1.09                           1.63              1.40   \n",
       "std               0.91                           0.58              0.49   \n",
       "min               0.00                           0.00              0.00   \n",
       "25%               0.00                           1.00              1.00   \n",
       "50%               1.00                           2.00              1.00   \n",
       "75%               2.00                           2.00              2.00   \n",
       "max               2.00                           2.00              2.00   \n",
       "\n",
       "       number of employees  location(tn)  \n",
       "count               700.00        700.00  \n",
       "mean                354.90         25.27  \n",
       "std                2865.16         10.46  \n",
       "min                   2.00          0.00  \n",
       "25%                  14.00         24.00  \n",
       "50%                  14.00         31.00  \n",
       "75%                  20.00         31.00  \n",
       "max               62500.00         39.00  "
      ]
     },
     "execution_count": 81,
     "metadata": {},
     "output_type": "execute_result"
    }
   ],
   "source": [
    "pd.options.display.float_format = '{:.2f}'.format\n",
    "df.describe() "
   ]
  },
  {
   "cell_type": "code",
   "execution_count": 82,
   "id": "625efae6-b693-494c-a92d-bdb7825f0111",
   "metadata": {},
   "outputs": [
    {
     "data": {
      "text/plain": [
       "business name                   -0.02\n",
       "categories of businesses        -0.89\n",
       "businesses  categories type      0.55\n",
       "business type                   -0.39\n",
       "size of business                -0.04\n",
       "year established                 9.21\n",
       "social media presence           -0.46\n",
       " social media status             0.14\n",
       "revenue range (annual)          12.62\n",
       "target audience                 -0.17\n",
       "major clients & customer base   -1.28\n",
       "digital presence                 0.37\n",
       "number of employees             18.05\n",
       "location(tn)                    -1.31\n",
       "dtype: float64"
      ]
     },
     "execution_count": 82,
     "metadata": {},
     "output_type": "execute_result"
    }
   ],
   "source": [
    "### checking skewness of the data \n",
    "df.skew()"
   ]
  },
  {
   "cell_type": "code",
   "execution_count": 83,
   "id": "ca3f27eb-5d07-4d8b-b723-7b963c7a283e",
   "metadata": {},
   "outputs": [
    {
     "data": {
      "text/html": [
       "<div>\n",
       "<style scoped>\n",
       "    .dataframe tbody tr th:only-of-type {\n",
       "        vertical-align: middle;\n",
       "    }\n",
       "\n",
       "    .dataframe tbody tr th {\n",
       "        vertical-align: top;\n",
       "    }\n",
       "\n",
       "    .dataframe thead th {\n",
       "        text-align: right;\n",
       "    }\n",
       "</style>\n",
       "<table border=\"1\" class=\"dataframe\">\n",
       "  <thead>\n",
       "    <tr style=\"text-align: right;\">\n",
       "      <th></th>\n",
       "      <th>business name</th>\n",
       "      <th>categories of businesses</th>\n",
       "      <th>businesses  categories type</th>\n",
       "      <th>business type</th>\n",
       "      <th>size of business</th>\n",
       "      <th>year established</th>\n",
       "      <th>social media presence</th>\n",
       "      <th>social media status</th>\n",
       "      <th>revenue range (annual)</th>\n",
       "      <th>target audience</th>\n",
       "      <th>major clients &amp; customer base</th>\n",
       "      <th>digital presence</th>\n",
       "      <th>number of employees</th>\n",
       "      <th>location(tn)</th>\n",
       "    </tr>\n",
       "  </thead>\n",
       "  <tbody>\n",
       "    <tr>\n",
       "      <th>business name</th>\n",
       "      <td>1.00</td>\n",
       "      <td>-0.07</td>\n",
       "      <td>0.00</td>\n",
       "      <td>-0.02</td>\n",
       "      <td>-0.05</td>\n",
       "      <td>-0.05</td>\n",
       "      <td>-0.09</td>\n",
       "      <td>0.10</td>\n",
       "      <td>-0.07</td>\n",
       "      <td>0.02</td>\n",
       "      <td>-0.07</td>\n",
       "      <td>-0.06</td>\n",
       "      <td>-0.04</td>\n",
       "      <td>-0.10</td>\n",
       "    </tr>\n",
       "    <tr>\n",
       "      <th>categories of businesses</th>\n",
       "      <td>-0.07</td>\n",
       "      <td>1.00</td>\n",
       "      <td>0.02</td>\n",
       "      <td>-0.18</td>\n",
       "      <td>-0.04</td>\n",
       "      <td>0.06</td>\n",
       "      <td>-0.05</td>\n",
       "      <td>0.08</td>\n",
       "      <td>0.03</td>\n",
       "      <td>-0.30</td>\n",
       "      <td>-0.17</td>\n",
       "      <td>-0.04</td>\n",
       "      <td>-0.02</td>\n",
       "      <td>0.06</td>\n",
       "    </tr>\n",
       "    <tr>\n",
       "      <th>businesses  categories type</th>\n",
       "      <td>0.00</td>\n",
       "      <td>0.02</td>\n",
       "      <td>1.00</td>\n",
       "      <td>-0.13</td>\n",
       "      <td>0.07</td>\n",
       "      <td>0.07</td>\n",
       "      <td>0.02</td>\n",
       "      <td>-0.01</td>\n",
       "      <td>0.01</td>\n",
       "      <td>-0.16</td>\n",
       "      <td>-0.05</td>\n",
       "      <td>0.04</td>\n",
       "      <td>0.03</td>\n",
       "      <td>0.03</td>\n",
       "    </tr>\n",
       "    <tr>\n",
       "      <th>business type</th>\n",
       "      <td>-0.02</td>\n",
       "      <td>-0.18</td>\n",
       "      <td>-0.13</td>\n",
       "      <td>1.00</td>\n",
       "      <td>0.20</td>\n",
       "      <td>-0.10</td>\n",
       "      <td>-0.05</td>\n",
       "      <td>-0.02</td>\n",
       "      <td>-0.12</td>\n",
       "      <td>0.38</td>\n",
       "      <td>0.27</td>\n",
       "      <td>0.25</td>\n",
       "      <td>-0.12</td>\n",
       "      <td>-0.21</td>\n",
       "    </tr>\n",
       "    <tr>\n",
       "      <th>size of business</th>\n",
       "      <td>-0.05</td>\n",
       "      <td>-0.04</td>\n",
       "      <td>0.07</td>\n",
       "      <td>0.20</td>\n",
       "      <td>1.00</td>\n",
       "      <td>-0.04</td>\n",
       "      <td>-0.13</td>\n",
       "      <td>0.10</td>\n",
       "      <td>-0.17</td>\n",
       "      <td>0.22</td>\n",
       "      <td>0.37</td>\n",
       "      <td>0.28</td>\n",
       "      <td>-0.18</td>\n",
       "      <td>-0.20</td>\n",
       "    </tr>\n",
       "    <tr>\n",
       "      <th>year established</th>\n",
       "      <td>-0.05</td>\n",
       "      <td>0.06</td>\n",
       "      <td>0.07</td>\n",
       "      <td>-0.10</td>\n",
       "      <td>-0.04</td>\n",
       "      <td>1.00</td>\n",
       "      <td>0.06</td>\n",
       "      <td>-0.05</td>\n",
       "      <td>0.04</td>\n",
       "      <td>-0.11</td>\n",
       "      <td>-0.05</td>\n",
       "      <td>-0.06</td>\n",
       "      <td>0.01</td>\n",
       "      <td>0.05</td>\n",
       "    </tr>\n",
       "    <tr>\n",
       "      <th>social media presence</th>\n",
       "      <td>-0.09</td>\n",
       "      <td>-0.05</td>\n",
       "      <td>0.02</td>\n",
       "      <td>-0.05</td>\n",
       "      <td>-0.13</td>\n",
       "      <td>0.06</td>\n",
       "      <td>1.00</td>\n",
       "      <td>-0.85</td>\n",
       "      <td>0.06</td>\n",
       "      <td>0.03</td>\n",
       "      <td>-0.06</td>\n",
       "      <td>-0.29</td>\n",
       "      <td>0.07</td>\n",
       "      <td>0.09</td>\n",
       "    </tr>\n",
       "    <tr>\n",
       "      <th>social media status</th>\n",
       "      <td>0.10</td>\n",
       "      <td>0.08</td>\n",
       "      <td>-0.01</td>\n",
       "      <td>-0.02</td>\n",
       "      <td>0.10</td>\n",
       "      <td>-0.05</td>\n",
       "      <td>-0.85</td>\n",
       "      <td>1.00</td>\n",
       "      <td>-0.08</td>\n",
       "      <td>-0.06</td>\n",
       "      <td>0.02</td>\n",
       "      <td>0.26</td>\n",
       "      <td>-0.07</td>\n",
       "      <td>-0.11</td>\n",
       "    </tr>\n",
       "    <tr>\n",
       "      <th>revenue range (annual)</th>\n",
       "      <td>-0.07</td>\n",
       "      <td>0.03</td>\n",
       "      <td>0.01</td>\n",
       "      <td>-0.12</td>\n",
       "      <td>-0.17</td>\n",
       "      <td>0.04</td>\n",
       "      <td>0.06</td>\n",
       "      <td>-0.08</td>\n",
       "      <td>1.00</td>\n",
       "      <td>-0.02</td>\n",
       "      <td>-0.11</td>\n",
       "      <td>-0.08</td>\n",
       "      <td>0.78</td>\n",
       "      <td>0.02</td>\n",
       "    </tr>\n",
       "    <tr>\n",
       "      <th>target audience</th>\n",
       "      <td>0.02</td>\n",
       "      <td>-0.30</td>\n",
       "      <td>-0.16</td>\n",
       "      <td>0.38</td>\n",
       "      <td>0.22</td>\n",
       "      <td>-0.11</td>\n",
       "      <td>0.03</td>\n",
       "      <td>-0.06</td>\n",
       "      <td>-0.02</td>\n",
       "      <td>1.00</td>\n",
       "      <td>0.38</td>\n",
       "      <td>0.13</td>\n",
       "      <td>-0.01</td>\n",
       "      <td>-0.22</td>\n",
       "    </tr>\n",
       "    <tr>\n",
       "      <th>major clients &amp; customer base</th>\n",
       "      <td>-0.07</td>\n",
       "      <td>-0.17</td>\n",
       "      <td>-0.05</td>\n",
       "      <td>0.27</td>\n",
       "      <td>0.37</td>\n",
       "      <td>-0.05</td>\n",
       "      <td>-0.06</td>\n",
       "      <td>0.02</td>\n",
       "      <td>-0.11</td>\n",
       "      <td>0.38</td>\n",
       "      <td>1.00</td>\n",
       "      <td>0.18</td>\n",
       "      <td>-0.11</td>\n",
       "      <td>-0.07</td>\n",
       "    </tr>\n",
       "    <tr>\n",
       "      <th>digital presence</th>\n",
       "      <td>-0.06</td>\n",
       "      <td>-0.04</td>\n",
       "      <td>0.04</td>\n",
       "      <td>0.25</td>\n",
       "      <td>0.28</td>\n",
       "      <td>-0.06</td>\n",
       "      <td>-0.29</td>\n",
       "      <td>0.26</td>\n",
       "      <td>-0.08</td>\n",
       "      <td>0.13</td>\n",
       "      <td>0.18</td>\n",
       "      <td>1.00</td>\n",
       "      <td>-0.08</td>\n",
       "      <td>-0.10</td>\n",
       "    </tr>\n",
       "    <tr>\n",
       "      <th>number of employees</th>\n",
       "      <td>-0.04</td>\n",
       "      <td>-0.02</td>\n",
       "      <td>0.03</td>\n",
       "      <td>-0.12</td>\n",
       "      <td>-0.18</td>\n",
       "      <td>0.01</td>\n",
       "      <td>0.07</td>\n",
       "      <td>-0.07</td>\n",
       "      <td>0.78</td>\n",
       "      <td>-0.01</td>\n",
       "      <td>-0.11</td>\n",
       "      <td>-0.08</td>\n",
       "      <td>1.00</td>\n",
       "      <td>0.03</td>\n",
       "    </tr>\n",
       "    <tr>\n",
       "      <th>location(tn)</th>\n",
       "      <td>-0.10</td>\n",
       "      <td>0.06</td>\n",
       "      <td>0.03</td>\n",
       "      <td>-0.21</td>\n",
       "      <td>-0.20</td>\n",
       "      <td>0.05</td>\n",
       "      <td>0.09</td>\n",
       "      <td>-0.11</td>\n",
       "      <td>0.02</td>\n",
       "      <td>-0.22</td>\n",
       "      <td>-0.07</td>\n",
       "      <td>-0.10</td>\n",
       "      <td>0.03</td>\n",
       "      <td>1.00</td>\n",
       "    </tr>\n",
       "  </tbody>\n",
       "</table>\n",
       "</div>"
      ],
      "text/plain": [
       "                               business name  categories of businesses  \\\n",
       "business name                           1.00                     -0.07   \n",
       "categories of businesses               -0.07                      1.00   \n",
       "businesses  categories type             0.00                      0.02   \n",
       "business type                          -0.02                     -0.18   \n",
       "size of business                       -0.05                     -0.04   \n",
       "year established                       -0.05                      0.06   \n",
       "social media presence                  -0.09                     -0.05   \n",
       " social media status                    0.10                      0.08   \n",
       "revenue range (annual)                 -0.07                      0.03   \n",
       "target audience                         0.02                     -0.30   \n",
       "major clients & customer base          -0.07                     -0.17   \n",
       "digital presence                       -0.06                     -0.04   \n",
       "number of employees                    -0.04                     -0.02   \n",
       "location(tn)                           -0.10                      0.06   \n",
       "\n",
       "                               businesses  categories type  business type  \\\n",
       "business name                                         0.00          -0.02   \n",
       "categories of businesses                              0.02          -0.18   \n",
       "businesses  categories type                           1.00          -0.13   \n",
       "business type                                        -0.13           1.00   \n",
       "size of business                                      0.07           0.20   \n",
       "year established                                      0.07          -0.10   \n",
       "social media presence                                 0.02          -0.05   \n",
       " social media status                                 -0.01          -0.02   \n",
       "revenue range (annual)                                0.01          -0.12   \n",
       "target audience                                      -0.16           0.38   \n",
       "major clients & customer base                        -0.05           0.27   \n",
       "digital presence                                      0.04           0.25   \n",
       "number of employees                                   0.03          -0.12   \n",
       "location(tn)                                          0.03          -0.21   \n",
       "\n",
       "                               size of business  year established  \\\n",
       "business name                             -0.05             -0.05   \n",
       "categories of businesses                  -0.04              0.06   \n",
       "businesses  categories type                0.07              0.07   \n",
       "business type                              0.20             -0.10   \n",
       "size of business                           1.00             -0.04   \n",
       "year established                          -0.04              1.00   \n",
       "social media presence                     -0.13              0.06   \n",
       " social media status                       0.10             -0.05   \n",
       "revenue range (annual)                    -0.17              0.04   \n",
       "target audience                            0.22             -0.11   \n",
       "major clients & customer base              0.37             -0.05   \n",
       "digital presence                           0.28             -0.06   \n",
       "number of employees                       -0.18              0.01   \n",
       "location(tn)                              -0.20              0.05   \n",
       "\n",
       "                               social media presence   social media status  \\\n",
       "business name                                  -0.09                  0.10   \n",
       "categories of businesses                       -0.05                  0.08   \n",
       "businesses  categories type                     0.02                 -0.01   \n",
       "business type                                  -0.05                 -0.02   \n",
       "size of business                               -0.13                  0.10   \n",
       "year established                                0.06                 -0.05   \n",
       "social media presence                           1.00                 -0.85   \n",
       " social media status                           -0.85                  1.00   \n",
       "revenue range (annual)                          0.06                 -0.08   \n",
       "target audience                                 0.03                 -0.06   \n",
       "major clients & customer base                  -0.06                  0.02   \n",
       "digital presence                               -0.29                  0.26   \n",
       "number of employees                             0.07                 -0.07   \n",
       "location(tn)                                    0.09                 -0.11   \n",
       "\n",
       "                               revenue range (annual)  target audience  \\\n",
       "business name                                   -0.07             0.02   \n",
       "categories of businesses                         0.03            -0.30   \n",
       "businesses  categories type                      0.01            -0.16   \n",
       "business type                                   -0.12             0.38   \n",
       "size of business                                -0.17             0.22   \n",
       "year established                                 0.04            -0.11   \n",
       "social media presence                            0.06             0.03   \n",
       " social media status                            -0.08            -0.06   \n",
       "revenue range (annual)                           1.00            -0.02   \n",
       "target audience                                 -0.02             1.00   \n",
       "major clients & customer base                   -0.11             0.38   \n",
       "digital presence                                -0.08             0.13   \n",
       "number of employees                              0.78            -0.01   \n",
       "location(tn)                                     0.02            -0.22   \n",
       "\n",
       "                               major clients & customer base  \\\n",
       "business name                                          -0.07   \n",
       "categories of businesses                               -0.17   \n",
       "businesses  categories type                            -0.05   \n",
       "business type                                           0.27   \n",
       "size of business                                        0.37   \n",
       "year established                                       -0.05   \n",
       "social media presence                                  -0.06   \n",
       " social media status                                    0.02   \n",
       "revenue range (annual)                                 -0.11   \n",
       "target audience                                         0.38   \n",
       "major clients & customer base                           1.00   \n",
       "digital presence                                        0.18   \n",
       "number of employees                                    -0.11   \n",
       "location(tn)                                           -0.07   \n",
       "\n",
       "                               digital presence  number of employees  \\\n",
       "business name                             -0.06                -0.04   \n",
       "categories of businesses                  -0.04                -0.02   \n",
       "businesses  categories type                0.04                 0.03   \n",
       "business type                              0.25                -0.12   \n",
       "size of business                           0.28                -0.18   \n",
       "year established                          -0.06                 0.01   \n",
       "social media presence                     -0.29                 0.07   \n",
       " social media status                       0.26                -0.07   \n",
       "revenue range (annual)                    -0.08                 0.78   \n",
       "target audience                            0.13                -0.01   \n",
       "major clients & customer base              0.18                -0.11   \n",
       "digital presence                           1.00                -0.08   \n",
       "number of employees                       -0.08                 1.00   \n",
       "location(tn)                              -0.10                 0.03   \n",
       "\n",
       "                               location(tn)  \n",
       "business name                         -0.10  \n",
       "categories of businesses               0.06  \n",
       "businesses  categories type            0.03  \n",
       "business type                         -0.21  \n",
       "size of business                      -0.20  \n",
       "year established                       0.05  \n",
       "social media presence                  0.09  \n",
       " social media status                  -0.11  \n",
       "revenue range (annual)                 0.02  \n",
       "target audience                       -0.22  \n",
       "major clients & customer base         -0.07  \n",
       "digital presence                      -0.10  \n",
       "number of employees                    0.03  \n",
       "location(tn)                           1.00  "
      ]
     },
     "execution_count": 83,
     "metadata": {},
     "output_type": "execute_result"
    }
   ],
   "source": [
    "df.corr()"
   ]
  },
  {
   "cell_type": "code",
   "execution_count": 84,
   "id": "1b0a5ba1-89c1-4293-9b4c-576a8f63fd30",
   "metadata": {},
   "outputs": [
    {
     "data": {
      "image/png": "[encoded data removed]",
      "text/plain": [
       "<Figure size 640x480 with 2 Axes>"
      ]
     },
     "metadata": {},
     "output_type": "display_data"
    }
   ],
   "source": [
    "sns.heatmap(df.corr())\n",
    "plt.show()"
   ]
  },
  {
   "cell_type": "code",
   "execution_count": null,
   "id": "4488e440-8589-4830-8a46-d3fcef3d0ecf",
   "metadata": {},
   "outputs": [],
   "source": []
  }
 ],
 "metadata": {
  "kernelspec": {
   "display_name": "Python 3 (ipykernel)",
   "language": "python",
   "name": "python3"
  },
  "language_info": {
   "codemirror_mode": {
    "name": "ipython",
    "version": 3
   },
   "file_extension": ".py",
   "mimetype": "text/x-python",
   "name": "python",
   "nbconvert_exporter": "python",
   "pygments_lexer": "ipython3",
   "version": "3.12.7"
  }
 },
 "nbformat": 4,
 "nbformat_minor": 5
}
